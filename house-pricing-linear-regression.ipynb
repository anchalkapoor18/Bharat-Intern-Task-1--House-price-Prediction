{
 "cells": [
  {
   "cell_type": "markdown",
   "id": "27d73f90",
   "metadata": {},
   "source": [
    "## TASK - 1  BHARAT INTERN"
   ]
  },
  {
   "cell_type": "markdown",
   "id": "8fef0091",
   "metadata": {},
   "source": [
    "### HOUSE PRICE PREDICTION"
   ]
  },
  {
   "cell_type": "markdown",
   "id": "d736c411",
   "metadata": {},
   "source": [
    "##### By: Anchal Kapoor"
   ]
  },
  {
   "cell_type": "markdown",
   "id": "36802083",
   "metadata": {},
   "source": [
    "### Problem Statement"
   ]
  },
  {
   "cell_type": "markdown",
   "id": "2d59f1ae",
   "metadata": {},
   "source": [
    "The real estate markets, like those in Sydney and Melbourne, present an interesting opportunity for data analysts to analyze and predict where property prices are moving towards. Prediction of property prices is becoming increasingly important and beneficial. Various machine learning alorithms used to find the answer with the maximum accuracy."
   ]
  },
  {
   "cell_type": "markdown",
   "id": "45be4b26",
   "metadata": {},
   "source": [
    "### Importing Libraries....."
   ]
  },
  {
   "cell_type": "code",
   "execution_count": 1,
   "id": "0400f0c4",
   "metadata": {
    "_cell_guid": "b1076dfc-b9ad-4769-8c92-a6c4dae69d19",
    "_uuid": "8f2839f25d086af736a60e9eeb907d3b93b6e0e5",
    "execution": {
     "iopub.execute_input": "2021-11-10T09:01:09.452576Z",
     "iopub.status.busy": "2021-11-10T09:01:09.450743Z",
     "iopub.status.idle": "2021-11-10T09:01:09.475343Z",
     "shell.execute_reply": "2021-11-10T09:01:09.476082Z",
     "shell.execute_reply.started": "2021-11-10T08:45:06.342744Z"
    },
    "papermill": {
     "duration": 0.087725,
     "end_time": "2021-11-10T09:01:09.476381",
     "exception": false,
     "start_time": "2021-11-10T09:01:09.388656",
     "status": "completed"
    },
    "tags": []
   },
   "outputs": [],
   "source": [
    "import numpy as np \n",
    "import pandas as pd \n",
    "import matplotlib.pyplot as plt\n",
    "import seaborn as sns"
   ]
  },
  {
   "cell_type": "markdown",
   "id": "ea991b80",
   "metadata": {},
   "source": [
    "### Load the dataset...."
   ]
  },
  {
   "cell_type": "code",
   "execution_count": 2,
   "id": "2521595c",
   "metadata": {
    "execution": {
     "iopub.execute_input": "2021-11-10T09:01:09.605079Z",
     "iopub.status.busy": "2021-11-10T09:01:09.604109Z",
     "iopub.status.idle": "2021-11-10T09:01:09.668347Z",
     "shell.execute_reply": "2021-11-10T09:01:09.668898Z",
     "shell.execute_reply.started": "2021-11-10T08:45:06.461346Z"
    },
    "papermill": {
     "duration": 0.122285,
     "end_time": "2021-11-10T09:01:09.669111",
     "exception": false,
     "start_time": "2021-11-10T09:01:09.546826",
     "status": "completed"
    },
    "tags": []
   },
   "outputs": [
    {
     "data": {
      "text/html": [
       "<div>\n",
       "<style scoped>\n",
       "    .dataframe tbody tr th:only-of-type {\n",
       "        vertical-align: middle;\n",
       "    }\n",
       "\n",
       "    .dataframe tbody tr th {\n",
       "        vertical-align: top;\n",
       "    }\n",
       "\n",
       "    .dataframe thead th {\n",
       "        text-align: right;\n",
       "    }\n",
       "</style>\n",
       "<table border=\"1\" class=\"dataframe\">\n",
       "  <thead>\n",
       "    <tr style=\"text-align: right;\">\n",
       "      <th></th>\n",
       "      <th>date</th>\n",
       "      <th>price</th>\n",
       "      <th>bedrooms</th>\n",
       "      <th>bathrooms</th>\n",
       "      <th>sqft_living</th>\n",
       "      <th>sqft_lot</th>\n",
       "      <th>floors</th>\n",
       "      <th>waterfront</th>\n",
       "      <th>view</th>\n",
       "      <th>condition</th>\n",
       "      <th>sqft_above</th>\n",
       "      <th>sqft_basement</th>\n",
       "      <th>yr_built</th>\n",
       "      <th>yr_renovated</th>\n",
       "      <th>street</th>\n",
       "      <th>city</th>\n",
       "      <th>statezip</th>\n",
       "      <th>country</th>\n",
       "    </tr>\n",
       "  </thead>\n",
       "  <tbody>\n",
       "    <tr>\n",
       "      <th>0</th>\n",
       "      <td>2014-05-02 00:00:00</td>\n",
       "      <td>313000.0</td>\n",
       "      <td>3.0</td>\n",
       "      <td>1.50</td>\n",
       "      <td>1340</td>\n",
       "      <td>7912</td>\n",
       "      <td>1.5</td>\n",
       "      <td>0</td>\n",
       "      <td>0</td>\n",
       "      <td>3</td>\n",
       "      <td>1340</td>\n",
       "      <td>0</td>\n",
       "      <td>1955</td>\n",
       "      <td>2005</td>\n",
       "      <td>18810 Densmore Ave N</td>\n",
       "      <td>Shoreline</td>\n",
       "      <td>WA 98133</td>\n",
       "      <td>USA</td>\n",
       "    </tr>\n",
       "    <tr>\n",
       "      <th>1</th>\n",
       "      <td>2014-05-02 00:00:00</td>\n",
       "      <td>2384000.0</td>\n",
       "      <td>5.0</td>\n",
       "      <td>2.50</td>\n",
       "      <td>3650</td>\n",
       "      <td>9050</td>\n",
       "      <td>2.0</td>\n",
       "      <td>0</td>\n",
       "      <td>4</td>\n",
       "      <td>5</td>\n",
       "      <td>3370</td>\n",
       "      <td>280</td>\n",
       "      <td>1921</td>\n",
       "      <td>0</td>\n",
       "      <td>709 W Blaine St</td>\n",
       "      <td>Seattle</td>\n",
       "      <td>WA 98119</td>\n",
       "      <td>USA</td>\n",
       "    </tr>\n",
       "    <tr>\n",
       "      <th>2</th>\n",
       "      <td>2014-05-02 00:00:00</td>\n",
       "      <td>342000.0</td>\n",
       "      <td>3.0</td>\n",
       "      <td>2.00</td>\n",
       "      <td>1930</td>\n",
       "      <td>11947</td>\n",
       "      <td>1.0</td>\n",
       "      <td>0</td>\n",
       "      <td>0</td>\n",
       "      <td>4</td>\n",
       "      <td>1930</td>\n",
       "      <td>0</td>\n",
       "      <td>1966</td>\n",
       "      <td>0</td>\n",
       "      <td>26206-26214 143rd Ave SE</td>\n",
       "      <td>Kent</td>\n",
       "      <td>WA 98042</td>\n",
       "      <td>USA</td>\n",
       "    </tr>\n",
       "    <tr>\n",
       "      <th>3</th>\n",
       "      <td>2014-05-02 00:00:00</td>\n",
       "      <td>420000.0</td>\n",
       "      <td>3.0</td>\n",
       "      <td>2.25</td>\n",
       "      <td>2000</td>\n",
       "      <td>8030</td>\n",
       "      <td>1.0</td>\n",
       "      <td>0</td>\n",
       "      <td>0</td>\n",
       "      <td>4</td>\n",
       "      <td>1000</td>\n",
       "      <td>1000</td>\n",
       "      <td>1963</td>\n",
       "      <td>0</td>\n",
       "      <td>857 170th Pl NE</td>\n",
       "      <td>Bellevue</td>\n",
       "      <td>WA 98008</td>\n",
       "      <td>USA</td>\n",
       "    </tr>\n",
       "    <tr>\n",
       "      <th>4</th>\n",
       "      <td>2014-05-02 00:00:00</td>\n",
       "      <td>550000.0</td>\n",
       "      <td>4.0</td>\n",
       "      <td>2.50</td>\n",
       "      <td>1940</td>\n",
       "      <td>10500</td>\n",
       "      <td>1.0</td>\n",
       "      <td>0</td>\n",
       "      <td>0</td>\n",
       "      <td>4</td>\n",
       "      <td>1140</td>\n",
       "      <td>800</td>\n",
       "      <td>1976</td>\n",
       "      <td>1992</td>\n",
       "      <td>9105 170th Ave NE</td>\n",
       "      <td>Redmond</td>\n",
       "      <td>WA 98052</td>\n",
       "      <td>USA</td>\n",
       "    </tr>\n",
       "  </tbody>\n",
       "</table>\n",
       "</div>"
      ],
      "text/plain": [
       "                  date      price  bedrooms  bathrooms  sqft_living  sqft_lot  \\\n",
       "0  2014-05-02 00:00:00   313000.0       3.0       1.50         1340      7912   \n",
       "1  2014-05-02 00:00:00  2384000.0       5.0       2.50         3650      9050   \n",
       "2  2014-05-02 00:00:00   342000.0       3.0       2.00         1930     11947   \n",
       "3  2014-05-02 00:00:00   420000.0       3.0       2.25         2000      8030   \n",
       "4  2014-05-02 00:00:00   550000.0       4.0       2.50         1940     10500   \n",
       "\n",
       "   floors  waterfront  view  condition  sqft_above  sqft_basement  yr_built  \\\n",
       "0     1.5           0     0          3        1340              0      1955   \n",
       "1     2.0           0     4          5        3370            280      1921   \n",
       "2     1.0           0     0          4        1930              0      1966   \n",
       "3     1.0           0     0          4        1000           1000      1963   \n",
       "4     1.0           0     0          4        1140            800      1976   \n",
       "\n",
       "   yr_renovated                    street       city  statezip country  \n",
       "0          2005      18810 Densmore Ave N  Shoreline  WA 98133     USA  \n",
       "1             0           709 W Blaine St    Seattle  WA 98119     USA  \n",
       "2             0  26206-26214 143rd Ave SE       Kent  WA 98042     USA  \n",
       "3             0           857 170th Pl NE   Bellevue  WA 98008     USA  \n",
       "4          1992         9105 170th Ave NE    Redmond  WA 98052     USA  "
      ]
     },
     "execution_count": 2,
     "metadata": {},
     "output_type": "execute_result"
    }
   ],
   "source": [
    "data = pd.read_csv('data.csv')\n",
    "data.head()"
   ]
  },
  {
   "cell_type": "markdown",
   "id": "9c35f106",
   "metadata": {
    "papermill": {
     "duration": 0.054934,
     "end_time": "2021-11-10T09:01:09.779380",
     "exception": false,
     "start_time": "2021-11-10T09:01:09.724446",
     "status": "completed"
    },
    "tags": []
   },
   "source": [
    "### Exploratory Data Analysis"
   ]
  },
  {
   "cell_type": "code",
   "execution_count": 3,
   "id": "26eef9bf",
   "metadata": {
    "execution": {
     "iopub.execute_input": "2021-11-10T09:01:09.893751Z",
     "iopub.status.busy": "2021-11-10T09:01:09.893010Z",
     "iopub.status.idle": "2021-11-10T09:01:09.896546Z",
     "shell.execute_reply": "2021-11-10T09:01:09.896015Z",
     "shell.execute_reply.started": "2021-11-10T08:45:06.496515Z"
    },
    "papermill": {
     "duration": 0.063121,
     "end_time": "2021-11-10T09:01:09.896680",
     "exception": false,
     "start_time": "2021-11-10T09:01:09.833559",
     "status": "completed"
    },
    "tags": []
   },
   "outputs": [
    {
     "data": {
      "text/plain": [
       "(4600, 18)"
      ]
     },
     "execution_count": 3,
     "metadata": {},
     "output_type": "execute_result"
    }
   ],
   "source": [
    "#It gives us the no of rows and columns\n",
    "data.shape"
   ]
  },
  {
   "cell_type": "code",
   "execution_count": 4,
   "id": "8fb25d44",
   "metadata": {
    "execution": {
     "iopub.execute_input": "2021-11-10T09:01:10.014365Z",
     "iopub.status.busy": "2021-11-10T09:01:10.013648Z",
     "iopub.status.idle": "2021-11-10T09:01:10.033993Z",
     "shell.execute_reply": "2021-11-10T09:01:10.033436Z",
     "shell.execute_reply.started": "2021-11-10T08:45:06.502836Z"
    },
    "papermill": {
     "duration": 0.084005,
     "end_time": "2021-11-10T09:01:10.034147",
     "exception": false,
     "start_time": "2021-11-10T09:01:09.950142",
     "status": "completed"
    },
    "tags": []
   },
   "outputs": [
    {
     "name": "stdout",
     "output_type": "stream",
     "text": [
      "<class 'pandas.core.frame.DataFrame'>\n",
      "RangeIndex: 4600 entries, 0 to 4599\n",
      "Data columns (total 18 columns):\n",
      " #   Column         Non-Null Count  Dtype  \n",
      "---  ------         --------------  -----  \n",
      " 0   date           4600 non-null   object \n",
      " 1   price          4600 non-null   float64\n",
      " 2   bedrooms       4600 non-null   float64\n",
      " 3   bathrooms      4600 non-null   float64\n",
      " 4   sqft_living    4600 non-null   int64  \n",
      " 5   sqft_lot       4600 non-null   int64  \n",
      " 6   floors         4600 non-null   float64\n",
      " 7   waterfront     4600 non-null   int64  \n",
      " 8   view           4600 non-null   int64  \n",
      " 9   condition      4600 non-null   int64  \n",
      " 10  sqft_above     4600 non-null   int64  \n",
      " 11  sqft_basement  4600 non-null   int64  \n",
      " 12  yr_built       4600 non-null   int64  \n",
      " 13  yr_renovated   4600 non-null   int64  \n",
      " 14  street         4600 non-null   object \n",
      " 15  city           4600 non-null   object \n",
      " 16  statezip       4600 non-null   object \n",
      " 17  country        4600 non-null   object \n",
      "dtypes: float64(4), int64(9), object(5)\n",
      "memory usage: 647.0+ KB\n"
     ]
    }
   ],
   "source": [
    "data.info()"
   ]
  },
  {
   "cell_type": "code",
   "execution_count": 5,
   "id": "838e4edf",
   "metadata": {
    "execution": {
     "iopub.execute_input": "2021-11-10T09:01:10.210705Z",
     "iopub.status.busy": "2021-11-10T09:01:10.209685Z",
     "iopub.status.idle": "2021-11-10T09:01:10.213819Z",
     "shell.execute_reply": "2021-11-10T09:01:10.213300Z",
     "shell.execute_reply.started": "2021-11-10T08:45:06.524158Z"
    },
    "papermill": {
     "duration": 0.124718,
     "end_time": "2021-11-10T09:01:10.213963",
     "exception": false,
     "start_time": "2021-11-10T09:01:10.089245",
     "status": "completed"
    },
    "tags": []
   },
   "outputs": [
    {
     "data": {
      "text/plain": [
       "Index(['date', 'price', 'bedrooms', 'bathrooms', 'sqft_living', 'sqft_lot',\n",
       "       'floors', 'waterfront', 'view', 'condition', 'sqft_above',\n",
       "       'sqft_basement', 'yr_built', 'yr_renovated', 'street', 'city',\n",
       "       'statezip', 'country'],\n",
       "      dtype='object')"
      ]
     },
     "execution_count": 5,
     "metadata": {},
     "output_type": "execute_result"
    }
   ],
   "source": [
    "data.columns"
   ]
  },
  {
   "cell_type": "code",
   "execution_count": 6,
   "id": "8287ceef",
   "metadata": {
    "execution": {
     "iopub.execute_input": "2021-11-10T09:01:10.327383Z",
     "iopub.status.busy": "2021-11-10T09:01:10.325663Z",
     "iopub.status.idle": "2021-11-10T09:01:10.336883Z",
     "shell.execute_reply": "2021-11-10T09:01:10.337386Z",
     "shell.execute_reply.started": "2021-11-10T08:45:06.531214Z"
    },
    "papermill": {
     "duration": 0.069336,
     "end_time": "2021-11-10T09:01:10.337562",
     "exception": false,
     "start_time": "2021-11-10T09:01:10.268226",
     "status": "completed"
    },
    "tags": []
   },
   "outputs": [
    {
     "data": {
      "text/plain": [
       "date             0\n",
       "price            0\n",
       "bedrooms         0\n",
       "bathrooms        0\n",
       "sqft_living      0\n",
       "sqft_lot         0\n",
       "floors           0\n",
       "waterfront       0\n",
       "view             0\n",
       "condition        0\n",
       "sqft_above       0\n",
       "sqft_basement    0\n",
       "yr_built         0\n",
       "yr_renovated     0\n",
       "street           0\n",
       "city             0\n",
       "statezip         0\n",
       "country          0\n",
       "dtype: int64"
      ]
     },
     "execution_count": 6,
     "metadata": {},
     "output_type": "execute_result"
    }
   ],
   "source": [
    "data.isnull().sum()"
   ]
  },
  {
   "cell_type": "code",
   "execution_count": 7,
   "id": "a80bab88",
   "metadata": {
    "execution": {
     "iopub.execute_input": "2021-11-10T09:01:10.450648Z",
     "iopub.status.busy": "2021-11-10T09:01:10.449685Z",
     "iopub.status.idle": "2021-11-10T09:01:10.506568Z",
     "shell.execute_reply": "2021-11-10T09:01:10.507099Z",
     "shell.execute_reply.started": "2021-11-10T08:45:06.546251Z"
    },
    "papermill": {
     "duration": 0.115006,
     "end_time": "2021-11-10T09:01:10.507269",
     "exception": false,
     "start_time": "2021-11-10T09:01:10.392263",
     "status": "completed"
    },
    "tags": []
   },
   "outputs": [
    {
     "data": {
      "text/html": [
       "<div>\n",
       "<style scoped>\n",
       "    .dataframe tbody tr th:only-of-type {\n",
       "        vertical-align: middle;\n",
       "    }\n",
       "\n",
       "    .dataframe tbody tr th {\n",
       "        vertical-align: top;\n",
       "    }\n",
       "\n",
       "    .dataframe thead th {\n",
       "        text-align: right;\n",
       "    }\n",
       "</style>\n",
       "<table border=\"1\" class=\"dataframe\">\n",
       "  <thead>\n",
       "    <tr style=\"text-align: right;\">\n",
       "      <th></th>\n",
       "      <th>price</th>\n",
       "      <th>bedrooms</th>\n",
       "      <th>bathrooms</th>\n",
       "      <th>sqft_living</th>\n",
       "      <th>sqft_lot</th>\n",
       "      <th>floors</th>\n",
       "      <th>waterfront</th>\n",
       "      <th>view</th>\n",
       "      <th>condition</th>\n",
       "      <th>sqft_above</th>\n",
       "      <th>sqft_basement</th>\n",
       "      <th>yr_built</th>\n",
       "      <th>yr_renovated</th>\n",
       "    </tr>\n",
       "  </thead>\n",
       "  <tbody>\n",
       "    <tr>\n",
       "      <th>count</th>\n",
       "      <td>4600.00</td>\n",
       "      <td>4600.00</td>\n",
       "      <td>4600.00</td>\n",
       "      <td>4600.00</td>\n",
       "      <td>4600.00</td>\n",
       "      <td>4600.00</td>\n",
       "      <td>4600.00</td>\n",
       "      <td>4600.00</td>\n",
       "      <td>4600.00</td>\n",
       "      <td>4600.00</td>\n",
       "      <td>4600.00</td>\n",
       "      <td>4600.00</td>\n",
       "      <td>4600.00</td>\n",
       "    </tr>\n",
       "    <tr>\n",
       "      <th>mean</th>\n",
       "      <td>551962.99</td>\n",
       "      <td>3.40</td>\n",
       "      <td>2.16</td>\n",
       "      <td>2139.35</td>\n",
       "      <td>14852.52</td>\n",
       "      <td>1.51</td>\n",
       "      <td>0.01</td>\n",
       "      <td>0.24</td>\n",
       "      <td>3.45</td>\n",
       "      <td>1827.27</td>\n",
       "      <td>312.08</td>\n",
       "      <td>1970.79</td>\n",
       "      <td>808.61</td>\n",
       "    </tr>\n",
       "    <tr>\n",
       "      <th>std</th>\n",
       "      <td>563834.70</td>\n",
       "      <td>0.91</td>\n",
       "      <td>0.78</td>\n",
       "      <td>963.21</td>\n",
       "      <td>35884.44</td>\n",
       "      <td>0.54</td>\n",
       "      <td>0.08</td>\n",
       "      <td>0.78</td>\n",
       "      <td>0.68</td>\n",
       "      <td>862.17</td>\n",
       "      <td>464.14</td>\n",
       "      <td>29.73</td>\n",
       "      <td>979.41</td>\n",
       "    </tr>\n",
       "    <tr>\n",
       "      <th>min</th>\n",
       "      <td>0.00</td>\n",
       "      <td>0.00</td>\n",
       "      <td>0.00</td>\n",
       "      <td>370.00</td>\n",
       "      <td>638.00</td>\n",
       "      <td>1.00</td>\n",
       "      <td>0.00</td>\n",
       "      <td>0.00</td>\n",
       "      <td>1.00</td>\n",
       "      <td>370.00</td>\n",
       "      <td>0.00</td>\n",
       "      <td>1900.00</td>\n",
       "      <td>0.00</td>\n",
       "    </tr>\n",
       "    <tr>\n",
       "      <th>25%</th>\n",
       "      <td>322875.00</td>\n",
       "      <td>3.00</td>\n",
       "      <td>1.75</td>\n",
       "      <td>1460.00</td>\n",
       "      <td>5000.75</td>\n",
       "      <td>1.00</td>\n",
       "      <td>0.00</td>\n",
       "      <td>0.00</td>\n",
       "      <td>3.00</td>\n",
       "      <td>1190.00</td>\n",
       "      <td>0.00</td>\n",
       "      <td>1951.00</td>\n",
       "      <td>0.00</td>\n",
       "    </tr>\n",
       "    <tr>\n",
       "      <th>50%</th>\n",
       "      <td>460943.46</td>\n",
       "      <td>3.00</td>\n",
       "      <td>2.25</td>\n",
       "      <td>1980.00</td>\n",
       "      <td>7683.00</td>\n",
       "      <td>1.50</td>\n",
       "      <td>0.00</td>\n",
       "      <td>0.00</td>\n",
       "      <td>3.00</td>\n",
       "      <td>1590.00</td>\n",
       "      <td>0.00</td>\n",
       "      <td>1976.00</td>\n",
       "      <td>0.00</td>\n",
       "    </tr>\n",
       "    <tr>\n",
       "      <th>75%</th>\n",
       "      <td>654962.50</td>\n",
       "      <td>4.00</td>\n",
       "      <td>2.50</td>\n",
       "      <td>2620.00</td>\n",
       "      <td>11001.25</td>\n",
       "      <td>2.00</td>\n",
       "      <td>0.00</td>\n",
       "      <td>0.00</td>\n",
       "      <td>4.00</td>\n",
       "      <td>2300.00</td>\n",
       "      <td>610.00</td>\n",
       "      <td>1997.00</td>\n",
       "      <td>1999.00</td>\n",
       "    </tr>\n",
       "    <tr>\n",
       "      <th>max</th>\n",
       "      <td>26590000.00</td>\n",
       "      <td>9.00</td>\n",
       "      <td>8.00</td>\n",
       "      <td>13540.00</td>\n",
       "      <td>1074218.00</td>\n",
       "      <td>3.50</td>\n",
       "      <td>1.00</td>\n",
       "      <td>4.00</td>\n",
       "      <td>5.00</td>\n",
       "      <td>9410.00</td>\n",
       "      <td>4820.00</td>\n",
       "      <td>2014.00</td>\n",
       "      <td>2014.00</td>\n",
       "    </tr>\n",
       "  </tbody>\n",
       "</table>\n",
       "</div>"
      ],
      "text/plain": [
       "             price  bedrooms  bathrooms  sqft_living    sqft_lot   floors  \\\n",
       "count      4600.00   4600.00    4600.00      4600.00     4600.00  4600.00   \n",
       "mean     551962.99      3.40       2.16      2139.35    14852.52     1.51   \n",
       "std      563834.70      0.91       0.78       963.21    35884.44     0.54   \n",
       "min           0.00      0.00       0.00       370.00      638.00     1.00   \n",
       "25%      322875.00      3.00       1.75      1460.00     5000.75     1.00   \n",
       "50%      460943.46      3.00       2.25      1980.00     7683.00     1.50   \n",
       "75%      654962.50      4.00       2.50      2620.00    11001.25     2.00   \n",
       "max    26590000.00      9.00       8.00     13540.00  1074218.00     3.50   \n",
       "\n",
       "       waterfront     view  condition  sqft_above  sqft_basement  yr_built  \\\n",
       "count     4600.00  4600.00    4600.00     4600.00        4600.00   4600.00   \n",
       "mean         0.01     0.24       3.45     1827.27         312.08   1970.79   \n",
       "std          0.08     0.78       0.68      862.17         464.14     29.73   \n",
       "min          0.00     0.00       1.00      370.00           0.00   1900.00   \n",
       "25%          0.00     0.00       3.00     1190.00           0.00   1951.00   \n",
       "50%          0.00     0.00       3.00     1590.00           0.00   1976.00   \n",
       "75%          0.00     0.00       4.00     2300.00         610.00   1997.00   \n",
       "max          1.00     4.00       5.00     9410.00        4820.00   2014.00   \n",
       "\n",
       "       yr_renovated  \n",
       "count       4600.00  \n",
       "mean         808.61  \n",
       "std          979.41  \n",
       "min            0.00  \n",
       "25%            0.00  \n",
       "50%            0.00  \n",
       "75%         1999.00  \n",
       "max         2014.00  "
      ]
     },
     "execution_count": 7,
     "metadata": {},
     "output_type": "execute_result"
    }
   ],
   "source": [
    "np.round(data.describe(), 2)"
   ]
  },
  {
   "cell_type": "markdown",
   "id": "ebf69795",
   "metadata": {
    "papermill": {
     "duration": 0.055849,
     "end_time": "2021-11-10T09:01:10.621065",
     "exception": false,
     "start_time": "2021-11-10T09:01:10.565216",
     "status": "completed"
    },
    "tags": []
   },
   "source": [
    "### Data Preprocessing"
   ]
  },
  {
   "cell_type": "code",
   "execution_count": 8,
   "id": "e79e9d2b",
   "metadata": {
    "execution": {
     "iopub.execute_input": "2021-11-10T09:01:10.740427Z",
     "iopub.status.busy": "2021-11-10T09:01:10.739606Z",
     "iopub.status.idle": "2021-11-10T09:01:10.742821Z",
     "shell.execute_reply": "2021-11-10T09:01:10.743302Z",
     "shell.execute_reply.started": "2021-11-10T08:45:06.602238Z"
    },
    "papermill": {
     "duration": 0.066239,
     "end_time": "2021-11-10T09:01:10.743478",
     "exception": false,
     "start_time": "2021-11-10T09:01:10.677239",
     "status": "completed"
    },
    "tags": []
   },
   "outputs": [
    {
     "data": {
      "text/plain": [
       "array(['2014-05-02 00:00:00', '2014-05-03 00:00:00',\n",
       "       '2014-05-04 00:00:00', '2014-05-05 00:00:00',\n",
       "       '2014-05-06 00:00:00', '2014-05-07 00:00:00',\n",
       "       '2014-05-08 00:00:00', '2014-05-09 00:00:00',\n",
       "       '2014-05-10 00:00:00', '2014-05-11 00:00:00',\n",
       "       '2014-05-12 00:00:00', '2014-05-13 00:00:00',\n",
       "       '2014-05-14 00:00:00', '2014-05-15 00:00:00',\n",
       "       '2014-05-16 00:00:00', '2014-05-17 00:00:00',\n",
       "       '2014-05-18 00:00:00', '2014-05-19 00:00:00',\n",
       "       '2014-05-20 00:00:00', '2014-05-21 00:00:00',\n",
       "       '2014-05-22 00:00:00', '2014-05-23 00:00:00',\n",
       "       '2014-05-24 00:00:00', '2014-05-25 00:00:00',\n",
       "       '2014-05-26 00:00:00', '2014-05-27 00:00:00',\n",
       "       '2014-05-28 00:00:00', '2014-05-29 00:00:00',\n",
       "       '2014-05-30 00:00:00', '2014-05-31 00:00:00',\n",
       "       '2014-06-01 00:00:00', '2014-06-02 00:00:00',\n",
       "       '2014-06-03 00:00:00', '2014-06-04 00:00:00',\n",
       "       '2014-06-05 00:00:00', '2014-06-06 00:00:00',\n",
       "       '2014-06-07 00:00:00', '2014-06-08 00:00:00',\n",
       "       '2014-06-09 00:00:00', '2014-06-10 00:00:00',\n",
       "       '2014-06-11 00:00:00', '2014-06-12 00:00:00',\n",
       "       '2014-06-13 00:00:00', '2014-06-14 00:00:00',\n",
       "       '2014-06-15 00:00:00', '2014-06-16 00:00:00',\n",
       "       '2014-06-17 00:00:00', '2014-06-18 00:00:00',\n",
       "       '2014-06-19 00:00:00', '2014-06-20 00:00:00',\n",
       "       '2014-06-21 00:00:00', '2014-06-22 00:00:00',\n",
       "       '2014-06-23 00:00:00', '2014-06-24 00:00:00',\n",
       "       '2014-06-25 00:00:00', '2014-06-26 00:00:00',\n",
       "       '2014-06-27 00:00:00', '2014-06-28 00:00:00',\n",
       "       '2014-06-29 00:00:00', '2014-06-30 00:00:00',\n",
       "       '2014-07-01 00:00:00', '2014-07-02 00:00:00',\n",
       "       '2014-07-03 00:00:00', '2014-07-04 00:00:00',\n",
       "       '2014-07-05 00:00:00', '2014-07-06 00:00:00',\n",
       "       '2014-07-07 00:00:00', '2014-07-08 00:00:00',\n",
       "       '2014-07-09 00:00:00', '2014-07-10 00:00:00'], dtype=object)"
      ]
     },
     "execution_count": 8,
     "metadata": {},
     "output_type": "execute_result"
    }
   ],
   "source": [
    "data['date'].unique()"
   ]
  },
  {
   "cell_type": "markdown",
   "id": "c9d412cc",
   "metadata": {
    "papermill": {
     "duration": 0.056267,
     "end_time": "2021-11-10T09:01:10.857306",
     "exception": false,
     "start_time": "2021-11-10T09:01:10.801039",
     "status": "completed"
    },
    "tags": []
   },
   "source": [
    "### Data visualization and Data Preprocessing"
   ]
  },
  {
   "cell_type": "code",
   "execution_count": 9,
   "id": "7671bb53",
   "metadata": {
    "execution": {
     "iopub.execute_input": "2021-11-10T09:01:12.114099Z",
     "iopub.status.busy": "2021-11-10T09:01:12.107891Z",
     "iopub.status.idle": "2021-11-10T09:01:12.268609Z",
     "shell.execute_reply": "2021-11-10T09:01:12.269591Z",
     "shell.execute_reply.started": "2021-11-10T08:45:06.644438Z"
    },
    "papermill": {
     "duration": 0.221462,
     "end_time": "2021-11-10T09:01:12.269878",
     "exception": false,
     "start_time": "2021-11-10T09:01:12.048416",
     "status": "completed"
    },
    "tags": []
   },
   "outputs": [
    {
     "data": {
      "text/plain": [
       "<Axes: xlabel='price'>"
      ]
     },
     "execution_count": 9,
     "metadata": {},
     "output_type": "execute_result"
    },
    {
     "data": {
      "image/png": "[encoded data removed]",
      "text/plain": [
       "<Figure size 640x480 with 1 Axes>"
      ]
     },
     "metadata": {},
     "output_type": "display_data"
    }
   ],
   "source": [
    "sns.boxplot(x=data['price'], data=data)"
   ]
  },
  {
   "cell_type": "markdown",
   "id": "532eddd4",
   "metadata": {
    "papermill": {
     "duration": 0.056859,
     "end_time": "2021-11-10T09:01:12.388259",
     "exception": false,
     "start_time": "2021-11-10T09:01:12.331400",
     "status": "completed"
    },
    "tags": []
   },
   "source": [
    "As we can see that there are lot of outliers present in the dataset.\n",
    "So we, will try to remove the outliers."
   ]
  },
  {
   "cell_type": "code",
   "execution_count": 10,
   "id": "0b588bd0",
   "metadata": {
    "execution": {
     "iopub.execute_input": "2021-11-10T09:01:12.514229Z",
     "iopub.status.busy": "2021-11-10T09:01:12.513526Z",
     "iopub.status.idle": "2021-11-10T09:01:14.478286Z",
     "shell.execute_reply": "2021-11-10T09:01:14.477600Z",
     "shell.execute_reply.started": "2021-11-10T08:45:06.823261Z"
    },
    "papermill": {
     "duration": 2.033261,
     "end_time": "2021-11-10T09:01:14.478443",
     "exception": false,
     "start_time": "2021-11-10T09:01:12.445182",
     "status": "completed"
    },
    "tags": []
   },
   "outputs": [
    {
     "data": {
      "text/plain": [
       "<seaborn.axisgrid.FacetGrid at 0x1fd54e0b8b0>"
      ]
     },
     "execution_count": 10,
     "metadata": {},
     "output_type": "execute_result"
    },
    {
     "data": {
      "image/png": "[encoded data removed]",
      "text/plain": [
       "<Figure size 500x500 with 1 Axes>"
      ]
     },
     "metadata": {},
     "output_type": "display_data"
    }
   ],
   "source": [
    "sns.displot(x=data['price'])"
   ]
  },
  {
   "cell_type": "code",
   "execution_count": 11,
   "id": "6283e56c",
   "metadata": {
    "execution": {
     "iopub.execute_input": "2021-11-10T09:01:14.600993Z",
     "iopub.status.busy": "2021-11-10T09:01:14.600282Z",
     "iopub.status.idle": "2021-11-10T09:01:14.605798Z",
     "shell.execute_reply": "2021-11-10T09:01:14.606315Z",
     "shell.execute_reply.started": "2021-11-10T08:45:08.638428Z"
    },
    "papermill": {
     "duration": 0.069112,
     "end_time": "2021-11-10T09:01:14.606508",
     "exception": false,
     "start_time": "2021-11-10T09:01:14.537396",
     "status": "completed"
    },
    "tags": []
   },
   "outputs": [],
   "source": [
    "def remove_outliers(data, x):\n",
    "    ##lets set the limits\n",
    "    q25 = np.percentile(data[x], 25)\n",
    "    q75 = np.percentile(data[x], 75)\n",
    "    iqr = q75 - q25\n",
    "    cut_off = iqr * 1.5\n",
    "    lower, upper = 1, (q75 + cut_off)\n",
    "    data = data[(data[x] < upper) & (data[x] > lower)]\n",
    "    print(f\"Outliers of {x} are removed\\n\")\n",
    "    return data"
   ]
  },
  {
   "cell_type": "code",
   "execution_count": 12,
   "id": "6dac021e",
   "metadata": {
    "execution": {
     "iopub.execute_input": "2021-11-10T09:01:14.725943Z",
     "iopub.status.busy": "2021-11-10T09:01:14.725302Z",
     "iopub.status.idle": "2021-11-10T09:01:14.732109Z",
     "shell.execute_reply": "2021-11-10T09:01:14.732917Z",
     "shell.execute_reply.started": "2021-11-10T08:45:08.647270Z"
    },
    "papermill": {
     "duration": 0.068432,
     "end_time": "2021-11-10T09:01:14.733147",
     "exception": false,
     "start_time": "2021-11-10T09:01:14.664715",
     "status": "completed"
    },
    "tags": []
   },
   "outputs": [
    {
     "name": "stdout",
     "output_type": "stream",
     "text": [
      "Outliers of price are removed\n",
      "\n"
     ]
    }
   ],
   "source": [
    "data = remove_outliers(data, 'price')"
   ]
  },
  {
   "cell_type": "code",
   "execution_count": 13,
   "id": "95ff4948",
   "metadata": {
    "execution": {
     "iopub.execute_input": "2021-11-10T09:01:14.857144Z",
     "iopub.status.busy": "2021-11-10T09:01:14.856369Z",
     "iopub.status.idle": "2021-11-10T09:01:14.861486Z",
     "shell.execute_reply": "2021-11-10T09:01:14.860858Z",
     "shell.execute_reply.started": "2021-11-10T08:45:08.666755Z"
    },
    "papermill": {
     "duration": 0.066565,
     "end_time": "2021-11-10T09:01:14.861624",
     "exception": false,
     "start_time": "2021-11-10T09:01:14.795059",
     "status": "completed"
    },
    "tags": []
   },
   "outputs": [
    {
     "data": {
      "text/plain": [
       "(4311, 18)"
      ]
     },
     "execution_count": 13,
     "metadata": {},
     "output_type": "execute_result"
    }
   ],
   "source": [
    "data.shape"
   ]
  },
  {
   "cell_type": "code",
   "execution_count": 14,
   "id": "e8d3ef39",
   "metadata": {
    "execution": {
     "iopub.execute_input": "2021-11-10T09:01:14.982994Z",
     "iopub.status.busy": "2021-11-10T09:01:14.982333Z",
     "iopub.status.idle": "2021-11-10T09:01:15.030466Z",
     "shell.execute_reply": "2021-11-10T09:01:15.029729Z",
     "shell.execute_reply.started": "2021-11-10T08:45:08.674256Z"
    },
    "papermill": {
     "duration": 0.110197,
     "end_time": "2021-11-10T09:01:15.030633",
     "exception": false,
     "start_time": "2021-11-10T09:01:14.920436",
     "status": "completed"
    },
    "tags": []
   },
   "outputs": [
    {
     "data": {
      "text/html": [
       "<div>\n",
       "<style scoped>\n",
       "    .dataframe tbody tr th:only-of-type {\n",
       "        vertical-align: middle;\n",
       "    }\n",
       "\n",
       "    .dataframe tbody tr th {\n",
       "        vertical-align: top;\n",
       "    }\n",
       "\n",
       "    .dataframe thead th {\n",
       "        text-align: right;\n",
       "    }\n",
       "</style>\n",
       "<table border=\"1\" class=\"dataframe\">\n",
       "  <thead>\n",
       "    <tr style=\"text-align: right;\">\n",
       "      <th></th>\n",
       "      <th>count</th>\n",
       "      <th>mean</th>\n",
       "      <th>std</th>\n",
       "      <th>min</th>\n",
       "      <th>25%</th>\n",
       "      <th>50%</th>\n",
       "      <th>75%</th>\n",
       "      <th>max</th>\n",
       "    </tr>\n",
       "  </thead>\n",
       "  <tbody>\n",
       "    <tr>\n",
       "      <th>price</th>\n",
       "      <td>4311.0</td>\n",
       "      <td>487456.901904</td>\n",
       "      <td>215659.641022</td>\n",
       "      <td>7800.0</td>\n",
       "      <td>320000.00</td>\n",
       "      <td>450000.00</td>\n",
       "      <td>615000.0</td>\n",
       "      <td>1150000.00</td>\n",
       "    </tr>\n",
       "    <tr>\n",
       "      <th>bedrooms</th>\n",
       "      <td>4311.0</td>\n",
       "      <td>3.351659</td>\n",
       "      <td>0.881215</td>\n",
       "      <td>0.0</td>\n",
       "      <td>3.00</td>\n",
       "      <td>3.00</td>\n",
       "      <td>4.0</td>\n",
       "      <td>9.00</td>\n",
       "    </tr>\n",
       "    <tr>\n",
       "      <th>bathrooms</th>\n",
       "      <td>4311.0</td>\n",
       "      <td>2.094352</td>\n",
       "      <td>0.715171</td>\n",
       "      <td>0.0</td>\n",
       "      <td>1.75</td>\n",
       "      <td>2.25</td>\n",
       "      <td>2.5</td>\n",
       "      <td>5.75</td>\n",
       "    </tr>\n",
       "    <tr>\n",
       "      <th>sqft_living</th>\n",
       "      <td>4311.0</td>\n",
       "      <td>2030.697982</td>\n",
       "      <td>810.138266</td>\n",
       "      <td>370.0</td>\n",
       "      <td>1430.00</td>\n",
       "      <td>1920.00</td>\n",
       "      <td>2510.0</td>\n",
       "      <td>7320.00</td>\n",
       "    </tr>\n",
       "    <tr>\n",
       "      <th>sqft_lot</th>\n",
       "      <td>4311.0</td>\n",
       "      <td>14598.596149</td>\n",
       "      <td>36141.110719</td>\n",
       "      <td>638.0</td>\n",
       "      <td>5000.00</td>\n",
       "      <td>7566.00</td>\n",
       "      <td>10696.5</td>\n",
       "      <td>1074218.00</td>\n",
       "    </tr>\n",
       "    <tr>\n",
       "      <th>floors</th>\n",
       "      <td>4311.0</td>\n",
       "      <td>1.495129</td>\n",
       "      <td>0.536898</td>\n",
       "      <td>1.0</td>\n",
       "      <td>1.00</td>\n",
       "      <td>1.50</td>\n",
       "      <td>2.0</td>\n",
       "      <td>3.50</td>\n",
       "    </tr>\n",
       "    <tr>\n",
       "      <th>waterfront</th>\n",
       "      <td>4311.0</td>\n",
       "      <td>0.003711</td>\n",
       "      <td>0.060815</td>\n",
       "      <td>0.0</td>\n",
       "      <td>0.00</td>\n",
       "      <td>0.00</td>\n",
       "      <td>0.0</td>\n",
       "      <td>1.00</td>\n",
       "    </tr>\n",
       "    <tr>\n",
       "      <th>view</th>\n",
       "      <td>4311.0</td>\n",
       "      <td>0.173742</td>\n",
       "      <td>0.644964</td>\n",
       "      <td>0.0</td>\n",
       "      <td>0.00</td>\n",
       "      <td>0.00</td>\n",
       "      <td>0.0</td>\n",
       "      <td>4.00</td>\n",
       "    </tr>\n",
       "    <tr>\n",
       "      <th>condition</th>\n",
       "      <td>4311.0</td>\n",
       "      <td>3.443749</td>\n",
       "      <td>0.669194</td>\n",
       "      <td>1.0</td>\n",
       "      <td>3.00</td>\n",
       "      <td>3.00</td>\n",
       "      <td>4.0</td>\n",
       "      <td>5.00</td>\n",
       "    </tr>\n",
       "    <tr>\n",
       "      <th>sqft_above</th>\n",
       "      <td>4311.0</td>\n",
       "      <td>1747.008583</td>\n",
       "      <td>763.543329</td>\n",
       "      <td>370.0</td>\n",
       "      <td>1170.00</td>\n",
       "      <td>1540.00</td>\n",
       "      <td>2190.0</td>\n",
       "      <td>7320.00</td>\n",
       "    </tr>\n",
       "    <tr>\n",
       "      <th>sqft_basement</th>\n",
       "      <td>4311.0</td>\n",
       "      <td>283.689399</td>\n",
       "      <td>422.527450</td>\n",
       "      <td>0.0</td>\n",
       "      <td>0.00</td>\n",
       "      <td>0.00</td>\n",
       "      <td>560.0</td>\n",
       "      <td>2300.00</td>\n",
       "    </tr>\n",
       "    <tr>\n",
       "      <th>yr_built</th>\n",
       "      <td>4311.0</td>\n",
       "      <td>1970.881234</td>\n",
       "      <td>29.506086</td>\n",
       "      <td>1900.0</td>\n",
       "      <td>1951.00</td>\n",
       "      <td>1976.00</td>\n",
       "      <td>1996.0</td>\n",
       "      <td>2014.00</td>\n",
       "    </tr>\n",
       "    <tr>\n",
       "      <th>yr_renovated</th>\n",
       "      <td>4311.0</td>\n",
       "      <td>810.582000</td>\n",
       "      <td>979.844447</td>\n",
       "      <td>0.0</td>\n",
       "      <td>0.00</td>\n",
       "      <td>0.00</td>\n",
       "      <td>1999.0</td>\n",
       "      <td>2014.00</td>\n",
       "    </tr>\n",
       "  </tbody>\n",
       "</table>\n",
       "</div>"
      ],
      "text/plain": [
       "                count           mean            std     min        25%  \\\n",
       "price          4311.0  487456.901904  215659.641022  7800.0  320000.00   \n",
       "bedrooms       4311.0       3.351659       0.881215     0.0       3.00   \n",
       "bathrooms      4311.0       2.094352       0.715171     0.0       1.75   \n",
       "sqft_living    4311.0    2030.697982     810.138266   370.0    1430.00   \n",
       "sqft_lot       4311.0   14598.596149   36141.110719   638.0    5000.00   \n",
       "floors         4311.0       1.495129       0.536898     1.0       1.00   \n",
       "waterfront     4311.0       0.003711       0.060815     0.0       0.00   \n",
       "view           4311.0       0.173742       0.644964     0.0       0.00   \n",
       "condition      4311.0       3.443749       0.669194     1.0       3.00   \n",
       "sqft_above     4311.0    1747.008583     763.543329   370.0    1170.00   \n",
       "sqft_basement  4311.0     283.689399     422.527450     0.0       0.00   \n",
       "yr_built       4311.0    1970.881234      29.506086  1900.0    1951.00   \n",
       "yr_renovated   4311.0     810.582000     979.844447     0.0       0.00   \n",
       "\n",
       "                     50%       75%         max  \n",
       "price          450000.00  615000.0  1150000.00  \n",
       "bedrooms            3.00       4.0        9.00  \n",
       "bathrooms           2.25       2.5        5.75  \n",
       "sqft_living      1920.00    2510.0     7320.00  \n",
       "sqft_lot         7566.00   10696.5  1074218.00  \n",
       "floors              1.50       2.0        3.50  \n",
       "waterfront          0.00       0.0        1.00  \n",
       "view                0.00       0.0        4.00  \n",
       "condition           3.00       4.0        5.00  \n",
       "sqft_above       1540.00    2190.0     7320.00  \n",
       "sqft_basement       0.00     560.0     2300.00  \n",
       "yr_built         1976.00    1996.0     2014.00  \n",
       "yr_renovated        0.00    1999.0     2014.00  "
      ]
     },
     "execution_count": 14,
     "metadata": {},
     "output_type": "execute_result"
    }
   ],
   "source": [
    "data.describe().T"
   ]
  },
  {
   "cell_type": "code",
   "execution_count": 15,
   "id": "7cad4da6",
   "metadata": {
    "execution": {
     "iopub.execute_input": "2021-11-10T09:01:15.157063Z",
     "iopub.status.busy": "2021-11-10T09:01:15.156388Z",
     "iopub.status.idle": "2021-11-10T09:01:15.477719Z",
     "shell.execute_reply": "2021-11-10T09:01:15.478229Z",
     "shell.execute_reply.started": "2021-11-10T08:45:08.725646Z"
    },
    "papermill": {
     "duration": 0.385562,
     "end_time": "2021-11-10T09:01:15.478407",
     "exception": false,
     "start_time": "2021-11-10T09:01:15.092845",
     "status": "completed"
    },
    "tags": []
   },
   "outputs": [
    {
     "data": {
      "text/plain": [
       "<seaborn.axisgrid.FacetGrid at 0x1fd54e0b970>"
      ]
     },
     "execution_count": 15,
     "metadata": {},
     "output_type": "execute_result"
    },
    {
     "data": {
      "image/png": "[encoded data removed]",
      "text/plain": [
       "<Figure size 500x500 with 1 Axes>"
      ]
     },
     "metadata": {},
     "output_type": "display_data"
    }
   ],
   "source": [
    "sns.displot(x=data['price'])"
   ]
  },
  {
   "cell_type": "code",
   "execution_count": 16,
   "id": "66bf59b5",
   "metadata": {
    "execution": {
     "iopub.execute_input": "2021-11-10T09:01:15.617896Z",
     "iopub.status.busy": "2021-11-10T09:01:15.613884Z",
     "iopub.status.idle": "2021-11-10T09:01:15.628719Z",
     "shell.execute_reply": "2021-11-10T09:01:15.628159Z",
     "shell.execute_reply.started": "2021-11-10T08:45:09.094425Z"
    },
    "papermill": {
     "duration": 0.088665,
     "end_time": "2021-11-10T09:01:15.628896",
     "exception": false,
     "start_time": "2021-11-10T09:01:15.540231",
     "status": "completed"
    },
    "tags": []
   },
   "outputs": [
    {
     "data": {
      "text/plain": [
       "dtype('<M8[ns]')"
      ]
     },
     "execution_count": 16,
     "metadata": {},
     "output_type": "execute_result"
    }
   ],
   "source": [
    "#converting the date type into datetime\n",
    "data['date'] = pd.to_datetime(data['date'])\n",
    "data['date'].dtype"
   ]
  },
  {
   "cell_type": "markdown",
   "id": "01d0aa78",
   "metadata": {
    "papermill": {
     "duration": 0.067745,
     "end_time": "2021-11-10T09:01:15.769886",
     "exception": false,
     "start_time": "2021-11-10T09:01:15.702141",
     "status": "completed"
    },
    "tags": []
   },
   "source": [
    "Now, we will extract the year and month from date time column"
   ]
  },
  {
   "cell_type": "code",
   "execution_count": 17,
   "id": "d6fb4e4d",
   "metadata": {
    "execution": {
     "iopub.execute_input": "2021-11-10T09:01:15.908372Z",
     "iopub.status.busy": "2021-11-10T09:01:15.906859Z",
     "iopub.status.idle": "2021-11-10T09:01:15.911906Z",
     "shell.execute_reply": "2021-11-10T09:01:15.912525Z",
     "shell.execute_reply.started": "2021-11-10T08:45:09.103917Z"
    },
    "papermill": {
     "duration": 0.075811,
     "end_time": "2021-11-10T09:01:15.912694",
     "exception": false,
     "start_time": "2021-11-10T09:01:15.836883",
     "status": "completed"
    },
    "tags": []
   },
   "outputs": [],
   "source": [
    "data['year'] = data['date'].dt.year\n",
    "data['month'] = data['date'].dt.month"
   ]
  },
  {
   "cell_type": "markdown",
   "id": "22948094",
   "metadata": {
    "papermill": {
     "duration": 0.060993,
     "end_time": "2021-11-10T09:01:16.036873",
     "exception": false,
     "start_time": "2021-11-10T09:01:15.975880",
     "status": "completed"
    },
    "tags": []
   },
   "source": [
    "Here, we can see that all the year are of same year.So it is not useful for our dataset.\n",
    "So, lets drop the 'year' and 'date' column from our dataset."
   ]
  },
  {
   "cell_type": "code",
   "execution_count": 18,
   "id": "c03856ff",
   "metadata": {
    "execution": {
     "iopub.execute_input": "2021-11-10T09:01:16.164219Z",
     "iopub.status.busy": "2021-11-10T09:01:16.163549Z",
     "iopub.status.idle": "2021-11-10T09:01:16.170967Z",
     "shell.execute_reply": "2021-11-10T09:01:16.171584Z",
     "shell.execute_reply.started": "2021-11-10T08:45:09.118040Z"
    },
    "papermill": {
     "duration": 0.073126,
     "end_time": "2021-11-10T09:01:16.171748",
     "exception": false,
     "start_time": "2021-11-10T09:01:16.098622",
     "status": "completed"
    },
    "tags": []
   },
   "outputs": [],
   "source": [
    "data.drop(['year', 'date'], axis=1, inplace=True)"
   ]
  },
  {
   "cell_type": "markdown",
   "id": "e35fc83c",
   "metadata": {
    "papermill": {
     "duration": 0.062415,
     "end_time": "2021-11-10T09:01:16.295921",
     "exception": false,
     "start_time": "2021-11-10T09:01:16.233506",
     "status": "completed"
    },
    "tags": []
   },
   "source": [
    "### Bedrooms"
   ]
  },
  {
   "cell_type": "code",
   "execution_count": 19,
   "id": "19ddb5ec",
   "metadata": {
    "execution": {
     "iopub.execute_input": "2021-11-10T09:01:16.421101Z",
     "iopub.status.busy": "2021-11-10T09:01:16.420425Z",
     "iopub.status.idle": "2021-11-10T09:01:16.846612Z",
     "shell.execute_reply": "2021-11-10T09:01:16.846007Z",
     "shell.execute_reply.started": "2021-11-10T08:45:09.126219Z"
    },
    "papermill": {
     "duration": 0.489756,
     "end_time": "2021-11-10T09:01:16.846757",
     "exception": false,
     "start_time": "2021-11-10T09:01:16.357001",
     "status": "completed"
    },
    "tags": []
   },
   "outputs": [
    {
     "data": {
      "text/plain": [
       "<seaborn.axisgrid.FacetGrid at 0x1fd55d74be0>"
      ]
     },
     "execution_count": 19,
     "metadata": {},
     "output_type": "execute_result"
    },
    {
     "data": {
      "image/png": "[encoded data removed]",
      "text/plain": [
       "<Figure size 500x500 with 1 Axes>"
      ]
     },
     "metadata": {},
     "output_type": "display_data"
    }
   ],
   "source": [
    "sns.displot(x=data['bedrooms'])"
   ]
  },
  {
   "cell_type": "code",
   "execution_count": 20,
   "id": "679f829e",
   "metadata": {
    "execution": {
     "iopub.execute_input": "2021-11-10T09:01:16.981568Z",
     "iopub.status.busy": "2021-11-10T09:01:16.980842Z",
     "iopub.status.idle": "2021-11-10T09:01:16.983975Z",
     "shell.execute_reply": "2021-11-10T09:01:16.984565Z",
     "shell.execute_reply.started": "2021-11-10T08:45:09.524256Z"
    },
    "papermill": {
     "duration": 0.075148,
     "end_time": "2021-11-10T09:01:16.984735",
     "exception": false,
     "start_time": "2021-11-10T09:01:16.909587",
     "status": "completed"
    },
    "tags": []
   },
   "outputs": [
    {
     "data": {
      "text/plain": [
       "3.0    1981\n",
       "4.0    1394\n",
       "2.0     557\n",
       "5.0     282\n",
       "6.0      47\n",
       "1.0      37\n",
       "7.0      10\n",
       "9.0       1\n",
       "0.0       1\n",
       "8.0       1\n",
       "Name: bedrooms, dtype: int64"
      ]
     },
     "execution_count": 20,
     "metadata": {},
     "output_type": "execute_result"
    }
   ],
   "source": [
    "data['bedrooms'].value_counts()"
   ]
  },
  {
   "cell_type": "markdown",
   "id": "ff3c73d0",
   "metadata": {
    "papermill": {
     "duration": 0.062131,
     "end_time": "2021-11-10T09:01:17.111615",
     "exception": false,
     "start_time": "2021-11-10T09:01:17.049484",
     "status": "completed"
    },
    "tags": []
   },
   "source": [
    "Here, we will remove the bedrooms which are 0 and more than 8 or 9. Because might be outliers for our dataset."
   ]
  },
  {
   "cell_type": "code",
   "execution_count": 21,
   "id": "f1f396c1",
   "metadata": {
    "execution": {
     "iopub.execute_input": "2021-11-10T09:01:17.251134Z",
     "iopub.status.busy": "2021-11-10T09:01:17.245730Z",
     "iopub.status.idle": "2021-11-10T09:01:17.254073Z",
     "shell.execute_reply": "2021-11-10T09:01:17.254670Z",
     "shell.execute_reply.started": "2021-11-10T08:45:09.532837Z"
    },
    "papermill": {
     "duration": 0.080413,
     "end_time": "2021-11-10T09:01:17.254857",
     "exception": false,
     "start_time": "2021-11-10T09:01:17.174444",
     "status": "completed"
    },
    "tags": []
   },
   "outputs": [
    {
     "data": {
      "text/plain": [
       "3    1981\n",
       "4    1394\n",
       "2     557\n",
       "5     282\n",
       "6      47\n",
       "1      37\n",
       "7      10\n",
       "Name: bedrooms, dtype: int64"
      ]
     },
     "execution_count": 21,
     "metadata": {},
     "output_type": "execute_result"
    }
   ],
   "source": [
    "data = data[(data['bedrooms'] > 0) & (data['bedrooms'] < 8)]\n",
    "data['bedrooms'] = data['bedrooms'].astype('int')\n",
    "data['bedrooms'].value_counts()\n"
   ]
  },
  {
   "cell_type": "markdown",
   "id": "528115ac",
   "metadata": {
    "papermill": {
     "duration": 0.064623,
     "end_time": "2021-11-10T09:01:17.383470",
     "exception": false,
     "start_time": "2021-11-10T09:01:17.318847",
     "status": "completed"
    },
    "tags": []
   },
   "source": [
    "### bathrooms"
   ]
  },
  {
   "cell_type": "code",
   "execution_count": 22,
   "id": "0258f354",
   "metadata": {
    "execution": {
     "iopub.execute_input": "2021-11-10T09:01:17.518490Z",
     "iopub.status.busy": "2021-11-10T09:01:17.517439Z",
     "iopub.status.idle": "2021-11-10T09:01:17.951433Z",
     "shell.execute_reply": "2021-11-10T09:01:17.950850Z",
     "shell.execute_reply.started": "2021-11-10T08:45:09.549240Z"
    },
    "papermill": {
     "duration": 0.502844,
     "end_time": "2021-11-10T09:01:17.951593",
     "exception": false,
     "start_time": "2021-11-10T09:01:17.448749",
     "status": "completed"
    },
    "tags": []
   },
   "outputs": [
    {
     "data": {
      "text/plain": [
       "<seaborn.axisgrid.FacetGrid at 0x1fd56e9fbe0>"
      ]
     },
     "execution_count": 22,
     "metadata": {},
     "output_type": "execute_result"
    },
    {
     "data": {
      "image/png": "[encoded data removed]",
      "text/plain": [
       "<Figure size 500x500 with 1 Axes>"
      ]
     },
     "metadata": {},
     "output_type": "display_data"
    }
   ],
   "source": [
    "sns.displot(x=data['bathrooms'])"
   ]
  },
  {
   "cell_type": "code",
   "execution_count": 23,
   "id": "418ed3bd",
   "metadata": {
    "execution": {
     "iopub.execute_input": "2021-11-10T09:01:18.087834Z",
     "iopub.status.busy": "2021-11-10T09:01:18.084926Z",
     "iopub.status.idle": "2021-11-10T09:01:18.090163Z",
     "shell.execute_reply": "2021-11-10T09:01:18.090653Z",
     "shell.execute_reply.started": "2021-11-10T08:45:09.959459Z"
    },
    "papermill": {
     "duration": 0.073095,
     "end_time": "2021-11-10T09:01:18.090853",
     "exception": false,
     "start_time": "2021-11-10T09:01:18.017758",
     "status": "completed"
    },
    "tags": []
   },
   "outputs": [],
   "source": [
    "data['bathrooms'] = data['bathrooms'].astype('int')"
   ]
  },
  {
   "cell_type": "markdown",
   "id": "641bc0b9",
   "metadata": {
    "papermill": {
     "duration": 0.063339,
     "end_time": "2021-11-10T09:01:18.218336",
     "exception": false,
     "start_time": "2021-11-10T09:01:18.154997",
     "status": "completed"
    },
    "tags": []
   },
   "source": [
    "### Floors"
   ]
  },
  {
   "cell_type": "code",
   "execution_count": 24,
   "id": "5545da26",
   "metadata": {
    "execution": {
     "iopub.execute_input": "2021-11-10T09:01:18.359109Z",
     "iopub.status.busy": "2021-11-10T09:01:18.358183Z",
     "iopub.status.idle": "2021-11-10T09:01:18.361530Z",
     "shell.execute_reply": "2021-11-10T09:01:18.362043Z",
     "shell.execute_reply.started": "2021-11-10T08:45:09.966745Z"
    },
    "papermill": {
     "duration": 0.077663,
     "end_time": "2021-11-10T09:01:18.362223",
     "exception": false,
     "start_time": "2021-11-10T09:01:18.284560",
     "status": "completed"
    },
    "tags": []
   },
   "outputs": [
    {
     "data": {
      "text/plain": [
       "1.0    2105\n",
       "2.0    1640\n",
       "1.5     415\n",
       "3.0     120\n",
       "2.5      27\n",
       "3.5       1\n",
       "Name: floors, dtype: int64"
      ]
     },
     "execution_count": 24,
     "metadata": {},
     "output_type": "execute_result"
    }
   ],
   "source": [
    "data['floors'].value_counts()"
   ]
  },
  {
   "cell_type": "code",
   "execution_count": 25,
   "id": "2c360327",
   "metadata": {
    "execution": {
     "iopub.execute_input": "2021-11-10T09:01:18.501700Z",
     "iopub.status.busy": "2021-11-10T09:01:18.500936Z",
     "iopub.status.idle": "2021-11-10T09:01:18.503502Z",
     "shell.execute_reply": "2021-11-10T09:01:18.504000Z",
     "shell.execute_reply.started": "2021-11-10T08:45:09.981930Z"
    },
    "papermill": {
     "duration": 0.076514,
     "end_time": "2021-11-10T09:01:18.504181",
     "exception": false,
     "start_time": "2021-11-10T09:01:18.427667",
     "status": "completed"
    },
    "tags": []
   },
   "outputs": [],
   "source": [
    "data['floors'] = data['floors'].astype('int')"
   ]
  },
  {
   "cell_type": "markdown",
   "id": "161e735e",
   "metadata": {
    "papermill": {
     "duration": 0.063645,
     "end_time": "2021-11-10T09:01:18.632307",
     "exception": false,
     "start_time": "2021-11-10T09:01:18.568662",
     "status": "completed"
    },
    "tags": []
   },
   "source": [
    "### WaterFront"
   ]
  },
  {
   "cell_type": "code",
   "execution_count": 26,
   "id": "3a3c0ba0",
   "metadata": {
    "execution": {
     "iopub.execute_input": "2021-11-10T09:01:18.764524Z",
     "iopub.status.busy": "2021-11-10T09:01:18.763444Z",
     "iopub.status.idle": "2021-11-10T09:01:18.770947Z",
     "shell.execute_reply": "2021-11-10T09:01:18.771433Z",
     "shell.execute_reply.started": "2021-11-10T08:45:09.990778Z"
    },
    "papermill": {
     "duration": 0.075235,
     "end_time": "2021-11-10T09:01:18.771617",
     "exception": false,
     "start_time": "2021-11-10T09:01:18.696382",
     "status": "completed"
    },
    "tags": []
   },
   "outputs": [
    {
     "data": {
      "text/plain": [
       "0    4292\n",
       "1      16\n",
       "Name: waterfront, dtype: int64"
      ]
     },
     "execution_count": 26,
     "metadata": {},
     "output_type": "execute_result"
    }
   ],
   "source": [
    "data['waterfront'].value_counts()"
   ]
  },
  {
   "cell_type": "markdown",
   "id": "ac4dcc24",
   "metadata": {
    "papermill": {
     "duration": 0.063829,
     "end_time": "2021-11-10T09:01:18.900505",
     "exception": false,
     "start_time": "2021-11-10T09:01:18.836676",
     "status": "completed"
    },
    "tags": []
   },
   "source": [
    "### Conditions"
   ]
  },
  {
   "cell_type": "code",
   "execution_count": 27,
   "id": "df42e437",
   "metadata": {
    "execution": {
     "iopub.execute_input": "2021-11-10T09:01:19.040581Z",
     "iopub.status.busy": "2021-11-10T09:01:19.039851Z",
     "iopub.status.idle": "2021-11-10T09:01:19.043524Z",
     "shell.execute_reply": "2021-11-10T09:01:19.043002Z",
     "shell.execute_reply.started": "2021-11-10T08:45:10.002145Z"
    },
    "papermill": {
     "duration": 0.078019,
     "end_time": "2021-11-10T09:01:19.043674",
     "exception": false,
     "start_time": "2021-11-10T09:01:18.965655",
     "status": "completed"
    },
    "tags": []
   },
   "outputs": [
    {
     "data": {
      "text/plain": [
       "3    2702\n",
       "4    1185\n",
       "5     385\n",
       "2      30\n",
       "1       6\n",
       "Name: condition, dtype: int64"
      ]
     },
     "execution_count": 27,
     "metadata": {},
     "output_type": "execute_result"
    }
   ],
   "source": [
    "data['condition'].value_counts()"
   ]
  },
  {
   "cell_type": "code",
   "execution_count": 28,
   "id": "909e637c",
   "metadata": {
    "execution": {
     "iopub.execute_input": "2021-11-10T09:01:19.181593Z",
     "iopub.status.busy": "2021-11-10T09:01:19.180810Z",
     "iopub.status.idle": "2021-11-10T09:01:19.528704Z",
     "shell.execute_reply": "2021-11-10T09:01:19.529259Z",
     "shell.execute_reply.started": "2021-11-10T08:45:10.012056Z"
    },
    "papermill": {
     "duration": 0.418389,
     "end_time": "2021-11-10T09:01:19.529452",
     "exception": false,
     "start_time": "2021-11-10T09:01:19.111063",
     "status": "completed"
    },
    "tags": []
   },
   "outputs": [
    {
     "data": {
      "text/plain": [
       "<Axes: >"
      ]
     },
     "execution_count": 28,
     "metadata": {},
     "output_type": "execute_result"
    },
    {
     "data": {
      "image/png": "[encoded data removed]",
      "text/plain": [
       "<Figure size 640x480 with 2 Axes>"
      ]
     },
     "metadata": {},
     "output_type": "display_data"
    }
   ],
   "source": [
    "sns.heatmap(data[['price', 'condition', 'waterfront', 'floors', 'view']].corr(), annot=True, cmap=\"Blues\")"
   ]
  },
  {
   "cell_type": "markdown",
   "id": "f8c2c6ec",
   "metadata": {
    "papermill": {
     "duration": 0.06755,
     "end_time": "2021-11-10T09:01:19.665177",
     "exception": false,
     "start_time": "2021-11-10T09:01:19.597627",
     "status": "completed"
    },
    "tags": []
   },
   "source": [
    "### \"Sqrt_living\", \"sqft_lot\", \"sqrt_above\", \"sqrt_basement\""
   ]
  },
  {
   "cell_type": "code",
   "execution_count": 29,
   "id": "c210dbd3",
   "metadata": {
    "execution": {
     "iopub.execute_input": "2021-11-10T09:01:19.804141Z",
     "iopub.status.busy": "2021-11-10T09:01:19.803381Z",
     "iopub.status.idle": "2021-11-10T09:01:24.334557Z",
     "shell.execute_reply": "2021-11-10T09:01:24.335127Z",
     "shell.execute_reply.started": "2021-11-10T08:45:10.359509Z"
    },
    "papermill": {
     "duration": 4.602198,
     "end_time": "2021-11-10T09:01:24.335295",
     "exception": false,
     "start_time": "2021-11-10T09:01:19.733097",
     "status": "completed"
    },
    "tags": []
   },
   "outputs": [
    {
     "data": {
      "image/png": "[encoded data removed]",
      "text/plain": [
       "<Figure size 1800x1000 with 4 Axes>"
      ]
     },
     "metadata": {},
     "output_type": "display_data"
    }
   ],
   "source": [
    "fig, axes = plt.subplots(2, 2, figsize=(18, 10))\n",
    "sns.histplot(ax=axes[0,0],x=\"sqft_living\", data=data);\n",
    "sns.histplot(ax=axes[0, 1],x=\"sqft_lot\", data=data);\n",
    "sns.histplot(ax=axes[1,0],x=\"sqft_above\", data=data);\n",
    "sns.histplot(ax=axes[1, 1],x=\"sqft_basement\", data=data);"
   ]
  },
  {
   "cell_type": "code",
   "execution_count": 30,
   "id": "09d22401",
   "metadata": {
    "execution": {
     "iopub.execute_input": "2021-11-10T09:01:24.473472Z",
     "iopub.status.busy": "2021-11-10T09:01:24.472836Z",
     "iopub.status.idle": "2021-11-10T09:01:24.837575Z",
     "shell.execute_reply": "2021-11-10T09:01:24.837009Z",
     "shell.execute_reply.started": "2021-11-10T08:45:14.426864Z"
    },
    "papermill": {
     "duration": 0.435113,
     "end_time": "2021-11-10T09:01:24.837723",
     "exception": false,
     "start_time": "2021-11-10T09:01:24.402610",
     "status": "completed"
    },
    "tags": []
   },
   "outputs": [
    {
     "data": {
      "image/png": "[encoded data removed]",
      "text/plain": [
       "<Figure size 640x480 with 2 Axes>"
      ]
     },
     "metadata": {},
     "output_type": "display_data"
    }
   ],
   "source": [
    "sns.heatmap(data[[\"price\", \"sqft_living\", \"sqft_lot\", \"sqft_above\", \"sqft_basement\"]].corr(), annot=True);"
   ]
  },
  {
   "cell_type": "markdown",
   "id": "2ab05970",
   "metadata": {
    "papermill": {
     "duration": 0.069858,
     "end_time": "2021-11-10T09:01:24.977174",
     "exception": false,
     "start_time": "2021-11-10T09:01:24.907316",
     "status": "completed"
    },
    "tags": []
   },
   "source": [
    "We can depend only on \"sqft_living\", as the most effective feature with \"price\" and it is highly correlated with \"sqft_above\"."
   ]
  },
  {
   "cell_type": "markdown",
   "id": "f40d5414",
   "metadata": {
    "papermill": {
     "duration": 0.068242,
     "end_time": "2021-11-10T09:01:25.114243",
     "exception": false,
     "start_time": "2021-11-10T09:01:25.046001",
     "status": "completed"
    },
    "tags": []
   },
   "source": [
    "### Year Built"
   ]
  },
  {
   "cell_type": "code",
   "execution_count": 31,
   "id": "dd27c654",
   "metadata": {
    "execution": {
     "iopub.execute_input": "2021-11-10T09:01:25.254755Z",
     "iopub.status.busy": "2021-11-10T09:01:25.254128Z",
     "iopub.status.idle": "2021-11-10T09:01:25.516501Z",
     "shell.execute_reply": "2021-11-10T09:01:25.515958Z",
     "shell.execute_reply.started": "2021-11-10T08:45:14.782681Z"
    },
    "papermill": {
     "duration": 0.333679,
     "end_time": "2021-11-10T09:01:25.516646",
     "exception": false,
     "start_time": "2021-11-10T09:01:25.182967",
     "status": "completed"
    },
    "tags": []
   },
   "outputs": [
    {
     "data": {
      "text/plain": [
       "<Axes: xlabel='yr_built', ylabel='Count'>"
      ]
     },
     "execution_count": 31,
     "metadata": {},
     "output_type": "execute_result"
    },
    {
     "data": {
      "image/png": "[encoded data removed]",
      "text/plain": [
       "<Figure size 640x480 with 1 Axes>"
      ]
     },
     "metadata": {},
     "output_type": "display_data"
    }
   ],
   "source": [
    "sns.histplot(x=data['yr_built'],data=data)"
   ]
  },
  {
   "cell_type": "code",
   "execution_count": 32,
   "id": "01c1b5c4",
   "metadata": {
    "execution": {
     "iopub.execute_input": "2021-11-10T09:01:25.659844Z",
     "iopub.status.busy": "2021-11-10T09:01:25.659152Z",
     "iopub.status.idle": "2021-11-10T09:01:25.941045Z",
     "shell.execute_reply": "2021-11-10T09:01:25.941569Z",
     "shell.execute_reply.started": "2021-11-10T08:45:15.044035Z"
    },
    "papermill": {
     "duration": 0.355008,
     "end_time": "2021-11-10T09:01:25.941739",
     "exception": false,
     "start_time": "2021-11-10T09:01:25.586731",
     "status": "completed"
    },
    "tags": []
   },
   "outputs": [
    {
     "data": {
      "text/plain": [
       "<Axes: xlabel='yr_built', ylabel='price'>"
      ]
     },
     "execution_count": 32,
     "metadata": {},
     "output_type": "execute_result"
    },
    {
     "data": {
      "image/png": "[encoded data removed]",
      "text/plain": [
       "<Figure size 640x480 with 1 Axes>"
      ]
     },
     "metadata": {},
     "output_type": "display_data"
    }
   ],
   "source": [
    "sns.scatterplot(x=data['yr_built'], y=data['price'], color='red')"
   ]
  },
  {
   "cell_type": "markdown",
   "id": "273f15aa",
   "metadata": {
    "papermill": {
     "duration": 0.07302,
     "end_time": "2021-11-10T09:01:26.089139",
     "exception": false,
     "start_time": "2021-11-10T09:01:26.016119",
     "status": "completed"
    },
    "tags": []
   },
   "source": [
    "### Year Renovated"
   ]
  },
  {
   "cell_type": "code",
   "execution_count": 33,
   "id": "90130e23",
   "metadata": {
    "execution": {
     "iopub.execute_input": "2021-11-10T09:01:26.267538Z",
     "iopub.status.busy": "2021-11-10T09:01:26.266430Z",
     "iopub.status.idle": "2021-11-10T09:01:26.509630Z",
     "shell.execute_reply": "2021-11-10T09:01:26.509089Z",
     "shell.execute_reply.started": "2021-11-10T08:45:15.321627Z"
    },
    "papermill": {
     "duration": 0.348388,
     "end_time": "2021-11-10T09:01:26.509792",
     "exception": false,
     "start_time": "2021-11-10T09:01:26.161404",
     "status": "completed"
    },
    "tags": []
   },
   "outputs": [
    {
     "data": {
      "text/plain": [
       "<Axes: xlabel='yr_renovated', ylabel='Count'>"
      ]
     },
     "execution_count": 33,
     "metadata": {},
     "output_type": "execute_result"
    },
    {
     "data": {
      "image/png": "[encoded data removed]",
      "text/plain": [
       "<Figure size 640x480 with 1 Axes>"
      ]
     },
     "metadata": {},
     "output_type": "display_data"
    }
   ],
   "source": [
    "sns.histplot(x=data['yr_renovated'], data=data)"
   ]
  },
  {
   "cell_type": "markdown",
   "id": "a3d99060",
   "metadata": {
    "papermill": {
     "duration": 0.073618,
     "end_time": "2021-11-10T09:01:26.656350",
     "exception": false,
     "start_time": "2021-11-10T09:01:26.582732",
     "status": "completed"
    },
    "tags": []
   },
   "source": [
    "Lets make this as renovated or not. Either 0 or 1."
   ]
  },
  {
   "cell_type": "code",
   "execution_count": 34,
   "id": "76bdb84d",
   "metadata": {
    "execution": {
     "iopub.execute_input": "2021-11-10T09:01:26.812730Z",
     "iopub.status.busy": "2021-11-10T09:01:26.812040Z",
     "iopub.status.idle": "2021-11-10T09:01:26.815238Z",
     "shell.execute_reply": "2021-11-10T09:01:26.814648Z",
     "shell.execute_reply.started": "2021-11-10T08:45:15.575092Z"
    },
    "papermill": {
     "duration": 0.085963,
     "end_time": "2021-11-10T09:01:26.815388",
     "exception": false,
     "start_time": "2021-11-10T09:01:26.729425",
     "status": "completed"
    },
    "tags": []
   },
   "outputs": [],
   "source": [
    "data['yr_renovated'] = data['yr_renovated'].apply(lambda x: x if x == 0 else 1)"
   ]
  },
  {
   "cell_type": "code",
   "execution_count": 35,
   "id": "c353e849",
   "metadata": {
    "execution": {
     "iopub.execute_input": "2021-11-10T09:01:26.970000Z",
     "iopub.status.busy": "2021-11-10T09:01:26.969076Z",
     "iopub.status.idle": "2021-11-10T09:01:26.972424Z",
     "shell.execute_reply": "2021-11-10T09:01:26.972938Z",
     "shell.execute_reply.started": "2021-11-10T08:45:15.588421Z"
    },
    "papermill": {
     "duration": 0.084598,
     "end_time": "2021-11-10T09:01:26.973107",
     "exception": false,
     "start_time": "2021-11-10T09:01:26.888509",
     "status": "completed"
    },
    "tags": []
   },
   "outputs": [
    {
     "data": {
      "text/plain": [
       "0    2559\n",
       "1    1749\n",
       "Name: yr_renovated, dtype: int64"
      ]
     },
     "execution_count": 35,
     "metadata": {},
     "output_type": "execute_result"
    }
   ],
   "source": [
    "data['yr_renovated'].value_counts()"
   ]
  },
  {
   "cell_type": "code",
   "execution_count": 36,
   "id": "49da1f84",
   "metadata": {
    "execution": {
     "iopub.execute_input": "2021-11-10T09:01:27.141207Z",
     "iopub.status.busy": "2021-11-10T09:01:27.140323Z",
     "iopub.status.idle": "2021-11-10T09:01:27.144494Z",
     "shell.execute_reply": "2021-11-10T09:01:27.143870Z",
     "shell.execute_reply.started": "2021-11-10T08:45:15.601416Z"
    },
    "papermill": {
     "duration": 0.097355,
     "end_time": "2021-11-10T09:01:27.144634",
     "exception": false,
     "start_time": "2021-11-10T09:01:27.047279",
     "status": "completed"
    },
    "tags": []
   },
   "outputs": [
    {
     "data": {
      "text/html": [
       "<div>\n",
       "<style scoped>\n",
       "    .dataframe tbody tr th:only-of-type {\n",
       "        vertical-align: middle;\n",
       "    }\n",
       "\n",
       "    .dataframe tbody tr th {\n",
       "        vertical-align: top;\n",
       "    }\n",
       "\n",
       "    .dataframe thead th {\n",
       "        text-align: right;\n",
       "    }\n",
       "</style>\n",
       "<table border=\"1\" class=\"dataframe\">\n",
       "  <thead>\n",
       "    <tr style=\"text-align: right;\">\n",
       "      <th></th>\n",
       "      <th>price</th>\n",
       "      <th>bedrooms</th>\n",
       "      <th>bathrooms</th>\n",
       "      <th>sqft_living</th>\n",
       "      <th>sqft_lot</th>\n",
       "      <th>floors</th>\n",
       "      <th>waterfront</th>\n",
       "      <th>view</th>\n",
       "      <th>condition</th>\n",
       "      <th>sqft_above</th>\n",
       "      <th>sqft_basement</th>\n",
       "      <th>yr_built</th>\n",
       "      <th>yr_renovated</th>\n",
       "      <th>street</th>\n",
       "      <th>city</th>\n",
       "      <th>statezip</th>\n",
       "      <th>country</th>\n",
       "      <th>month</th>\n",
       "    </tr>\n",
       "  </thead>\n",
       "  <tbody>\n",
       "    <tr>\n",
       "      <th>0</th>\n",
       "      <td>313000.0</td>\n",
       "      <td>3</td>\n",
       "      <td>1</td>\n",
       "      <td>1340</td>\n",
       "      <td>7912</td>\n",
       "      <td>1</td>\n",
       "      <td>0</td>\n",
       "      <td>0</td>\n",
       "      <td>3</td>\n",
       "      <td>1340</td>\n",
       "      <td>0</td>\n",
       "      <td>1955</td>\n",
       "      <td>1</td>\n",
       "      <td>18810 Densmore Ave N</td>\n",
       "      <td>Shoreline</td>\n",
       "      <td>WA 98133</td>\n",
       "      <td>USA</td>\n",
       "      <td>5</td>\n",
       "    </tr>\n",
       "    <tr>\n",
       "      <th>2</th>\n",
       "      <td>342000.0</td>\n",
       "      <td>3</td>\n",
       "      <td>2</td>\n",
       "      <td>1930</td>\n",
       "      <td>11947</td>\n",
       "      <td>1</td>\n",
       "      <td>0</td>\n",
       "      <td>0</td>\n",
       "      <td>4</td>\n",
       "      <td>1930</td>\n",
       "      <td>0</td>\n",
       "      <td>1966</td>\n",
       "      <td>0</td>\n",
       "      <td>26206-26214 143rd Ave SE</td>\n",
       "      <td>Kent</td>\n",
       "      <td>WA 98042</td>\n",
       "      <td>USA</td>\n",
       "      <td>5</td>\n",
       "    </tr>\n",
       "    <tr>\n",
       "      <th>3</th>\n",
       "      <td>420000.0</td>\n",
       "      <td>3</td>\n",
       "      <td>2</td>\n",
       "      <td>2000</td>\n",
       "      <td>8030</td>\n",
       "      <td>1</td>\n",
       "      <td>0</td>\n",
       "      <td>0</td>\n",
       "      <td>4</td>\n",
       "      <td>1000</td>\n",
       "      <td>1000</td>\n",
       "      <td>1963</td>\n",
       "      <td>0</td>\n",
       "      <td>857 170th Pl NE</td>\n",
       "      <td>Bellevue</td>\n",
       "      <td>WA 98008</td>\n",
       "      <td>USA</td>\n",
       "      <td>5</td>\n",
       "    </tr>\n",
       "    <tr>\n",
       "      <th>4</th>\n",
       "      <td>550000.0</td>\n",
       "      <td>4</td>\n",
       "      <td>2</td>\n",
       "      <td>1940</td>\n",
       "      <td>10500</td>\n",
       "      <td>1</td>\n",
       "      <td>0</td>\n",
       "      <td>0</td>\n",
       "      <td>4</td>\n",
       "      <td>1140</td>\n",
       "      <td>800</td>\n",
       "      <td>1976</td>\n",
       "      <td>1</td>\n",
       "      <td>9105 170th Ave NE</td>\n",
       "      <td>Redmond</td>\n",
       "      <td>WA 98052</td>\n",
       "      <td>USA</td>\n",
       "      <td>5</td>\n",
       "    </tr>\n",
       "    <tr>\n",
       "      <th>5</th>\n",
       "      <td>490000.0</td>\n",
       "      <td>2</td>\n",
       "      <td>1</td>\n",
       "      <td>880</td>\n",
       "      <td>6380</td>\n",
       "      <td>1</td>\n",
       "      <td>0</td>\n",
       "      <td>0</td>\n",
       "      <td>3</td>\n",
       "      <td>880</td>\n",
       "      <td>0</td>\n",
       "      <td>1938</td>\n",
       "      <td>1</td>\n",
       "      <td>522 NE 88th St</td>\n",
       "      <td>Seattle</td>\n",
       "      <td>WA 98115</td>\n",
       "      <td>USA</td>\n",
       "      <td>5</td>\n",
       "    </tr>\n",
       "  </tbody>\n",
       "</table>\n",
       "</div>"
      ],
      "text/plain": [
       "      price  bedrooms  bathrooms  sqft_living  sqft_lot  floors  waterfront  \\\n",
       "0  313000.0         3          1         1340      7912       1           0   \n",
       "2  342000.0         3          2         1930     11947       1           0   \n",
       "3  420000.0         3          2         2000      8030       1           0   \n",
       "4  550000.0         4          2         1940     10500       1           0   \n",
       "5  490000.0         2          1          880      6380       1           0   \n",
       "\n",
       "   view  condition  sqft_above  sqft_basement  yr_built  yr_renovated  \\\n",
       "0     0          3        1340              0      1955             1   \n",
       "2     0          4        1930              0      1966             0   \n",
       "3     0          4        1000           1000      1963             0   \n",
       "4     0          4        1140            800      1976             1   \n",
       "5     0          3         880              0      1938             1   \n",
       "\n",
       "                     street       city  statezip country  month  \n",
       "0      18810 Densmore Ave N  Shoreline  WA 98133     USA      5  \n",
       "2  26206-26214 143rd Ave SE       Kent  WA 98042     USA      5  \n",
       "3           857 170th Pl NE   Bellevue  WA 98008     USA      5  \n",
       "4         9105 170th Ave NE    Redmond  WA 98052     USA      5  \n",
       "5            522 NE 88th St    Seattle  WA 98115     USA      5  "
      ]
     },
     "execution_count": 36,
     "metadata": {},
     "output_type": "execute_result"
    }
   ],
   "source": [
    "data.head()"
   ]
  },
  {
   "cell_type": "markdown",
   "id": "824073d6",
   "metadata": {
    "papermill": {
     "duration": 0.073707,
     "end_time": "2021-11-10T09:01:27.292869",
     "exception": false,
     "start_time": "2021-11-10T09:01:27.219162",
     "status": "completed"
    },
    "tags": []
   },
   "source": [
    "### Country"
   ]
  },
  {
   "cell_type": "code",
   "execution_count": 37,
   "id": "8aea46d8",
   "metadata": {
    "execution": {
     "iopub.execute_input": "2021-11-10T09:01:27.451464Z",
     "iopub.status.busy": "2021-11-10T09:01:27.450646Z",
     "iopub.status.idle": "2021-11-10T09:01:27.454863Z",
     "shell.execute_reply": "2021-11-10T09:01:27.454243Z",
     "shell.execute_reply.started": "2021-11-10T08:45:15.628216Z"
    },
    "papermill": {
     "duration": 0.088412,
     "end_time": "2021-11-10T09:01:27.455017",
     "exception": false,
     "start_time": "2021-11-10T09:01:27.366605",
     "status": "completed"
    },
    "tags": []
   },
   "outputs": [
    {
     "data": {
      "text/plain": [
       "USA    4308\n",
       "Name: country, dtype: int64"
      ]
     },
     "execution_count": 37,
     "metadata": {},
     "output_type": "execute_result"
    }
   ],
   "source": [
    "data['country'].value_counts()"
   ]
  },
  {
   "cell_type": "code",
   "execution_count": 38,
   "id": "921f764f",
   "metadata": {
    "execution": {
     "iopub.execute_input": "2021-11-10T09:01:27.613292Z",
     "iopub.status.busy": "2021-11-10T09:01:27.612507Z",
     "iopub.status.idle": "2021-11-10T09:01:27.615880Z",
     "shell.execute_reply": "2021-11-10T09:01:27.616419Z",
     "shell.execute_reply.started": "2021-11-10T08:45:15.637905Z"
    },
    "papermill": {
     "duration": 0.086149,
     "end_time": "2021-11-10T09:01:27.616588",
     "exception": false,
     "start_time": "2021-11-10T09:01:27.530439",
     "status": "completed"
    },
    "tags": []
   },
   "outputs": [
    {
     "data": {
      "text/plain": [
       "Seattle                1459\n",
       "Renton                  291\n",
       "Bellevue                232\n",
       "Redmond                 227\n",
       "Kent                    183\n",
       "Issaquah                183\n",
       "Kirkland                176\n",
       "Auburn                  175\n",
       "Sammamish               166\n",
       "Federal Way             145\n",
       "Shoreline               120\n",
       "Woodinville             111\n",
       "Maple Valley             95\n",
       "Burien                   72\n",
       "Snoqualmie               69\n",
       "Kenmore                  65\n",
       "Des Moines               58\n",
       "Mercer Island            50\n",
       "North Bend               50\n",
       "Duvall                   42\n",
       "Covington                41\n",
       "Lake Forest Park         34\n",
       "Bothell                  33\n",
       "Newcastle                31\n",
       "Vashon                   29\n",
       "SeaTac                   28\n",
       "Tukwila                  28\n",
       "Enumclaw                 27\n",
       "Carnation                21\n",
       "Normandy Park            16\n",
       "Fall City                 9\n",
       "Black Diamond             8\n",
       "Ravensdale                7\n",
       "Pacific                   6\n",
       "Algona                    5\n",
       "Clyde Hill                3\n",
       "Skykomish                 3\n",
       "Preston                   2\n",
       "Milton                    2\n",
       "Yarrow Point              2\n",
       "Snoqualmie Pass           1\n",
       "Inglewood-Finn Hill       1\n",
       "Beaux Arts Village        1\n",
       "Medina                    1\n",
       "Name: city, dtype: int64"
      ]
     },
     "execution_count": 38,
     "metadata": {},
     "output_type": "execute_result"
    }
   ],
   "source": [
    "data['city'].value_counts()"
   ]
  },
  {
   "cell_type": "code",
   "execution_count": 39,
   "id": "dd50db84",
   "metadata": {
    "execution": {
     "iopub.execute_input": "2021-11-10T09:01:27.813444Z",
     "iopub.status.busy": "2021-11-10T09:01:27.786408Z",
     "iopub.status.idle": "2021-11-10T09:01:28.056564Z",
     "shell.execute_reply": "2021-11-10T09:01:28.055921Z",
     "shell.execute_reply.started": "2021-11-10T08:45:15.653735Z"
    },
    "papermill": {
     "duration": 0.364975,
     "end_time": "2021-11-10T09:01:28.056707",
     "exception": false,
     "start_time": "2021-11-10T09:01:27.691732",
     "status": "completed"
    },
    "tags": []
   },
   "outputs": [
    {
     "data": {
      "text/plain": [
       "<Axes: xlabel='city'>"
      ]
     },
     "execution_count": 39,
     "metadata": {},
     "output_type": "execute_result"
    },
    {
     "data": {
      "image/png": "[encoded data removed]",
      "text/plain": [
       "<Figure size 640x480 with 1 Axes>"
      ]
     },
     "metadata": {},
     "output_type": "display_data"
    }
   ],
   "source": [
    "top_10_cities = data['city'].value_counts().head(10)\n",
    "sns.barplot(x = top_10_cities, y=top_10_cities.index)"
   ]
  },
  {
   "cell_type": "markdown",
   "id": "da8af3f5",
   "metadata": {
    "papermill": {
     "duration": 0.07488,
     "end_time": "2021-11-10T09:01:28.208093",
     "exception": false,
     "start_time": "2021-11-10T09:01:28.133213",
     "status": "completed"
    },
    "tags": []
   },
   "source": [
    "Here, we can see that majority of the houses are present  in the city \"Seattle\"."
   ]
  },
  {
   "cell_type": "code",
   "execution_count": 40,
   "id": "5c673eb8",
   "metadata": {
    "execution": {
     "iopub.execute_input": "2021-11-10T09:01:28.363334Z",
     "iopub.status.busy": "2021-11-10T09:01:28.362324Z",
     "iopub.status.idle": "2021-11-10T09:01:28.370661Z",
     "shell.execute_reply": "2021-11-10T09:01:28.371269Z",
     "shell.execute_reply.started": "2021-11-10T08:45:15.934137Z"
    },
    "papermill": {
     "duration": 0.088033,
     "end_time": "2021-11-10T09:01:28.371438",
     "exception": false,
     "start_time": "2021-11-10T09:01:28.283405",
     "status": "completed"
    },
    "tags": []
   },
   "outputs": [
    {
     "data": {
      "text/plain": [
       "WA 98103    144\n",
       "WA 98052    133\n",
       "WA 98117    129\n",
       "WA 98115    124\n",
       "WA 98059    104\n",
       "           ... \n",
       "WA 98288      3\n",
       "WA 98050      2\n",
       "WA 98354      2\n",
       "WA 98068      1\n",
       "WA 98039      1\n",
       "Name: statezip, Length: 77, dtype: int64"
      ]
     },
     "execution_count": 40,
     "metadata": {},
     "output_type": "execute_result"
    }
   ],
   "source": [
    "data['statezip'].value_counts()"
   ]
  },
  {
   "cell_type": "markdown",
   "id": "b7f8d189",
   "metadata": {
    "papermill": {
     "duration": 0.075135,
     "end_time": "2021-11-10T09:01:28.521846",
     "exception": false,
     "start_time": "2021-11-10T09:01:28.446711",
     "status": "completed"
    },
    "tags": []
   },
   "source": [
    "So, here we will drop the 'country' column, as all the houses are present in the USA only.\n",
    "And the \"Zip code\" column."
   ]
  },
  {
   "cell_type": "code",
   "execution_count": 41,
   "id": "877d87b3",
   "metadata": {
    "execution": {
     "iopub.execute_input": "2021-11-10T09:01:28.676716Z",
     "iopub.status.busy": "2021-11-10T09:01:28.675719Z",
     "iopub.status.idle": "2021-11-10T09:01:28.680973Z",
     "shell.execute_reply": "2021-11-10T09:01:28.681518Z",
     "shell.execute_reply.started": "2021-11-10T08:45:15.944479Z"
    },
    "papermill": {
     "duration": 0.084222,
     "end_time": "2021-11-10T09:01:28.681684",
     "exception": false,
     "start_time": "2021-11-10T09:01:28.597462",
     "status": "completed"
    },
    "tags": []
   },
   "outputs": [],
   "source": [
    "data.drop(['country', 'statezip', 'street'], axis=1, inplace=True)"
   ]
  },
  {
   "cell_type": "code",
   "execution_count": 42,
   "id": "331b8fa3",
   "metadata": {
    "execution": {
     "iopub.execute_input": "2021-11-10T09:01:28.847925Z",
     "iopub.status.busy": "2021-11-10T09:01:28.846946Z",
     "iopub.status.idle": "2021-11-10T09:01:28.851160Z",
     "shell.execute_reply": "2021-11-10T09:01:28.850516Z",
     "shell.execute_reply.started": "2021-11-10T08:45:15.953883Z"
    },
    "papermill": {
     "duration": 0.093931,
     "end_time": "2021-11-10T09:01:28.851305",
     "exception": false,
     "start_time": "2021-11-10T09:01:28.757374",
     "status": "completed"
    },
    "tags": []
   },
   "outputs": [
    {
     "data": {
      "text/html": [
       "<div>\n",
       "<style scoped>\n",
       "    .dataframe tbody tr th:only-of-type {\n",
       "        vertical-align: middle;\n",
       "    }\n",
       "\n",
       "    .dataframe tbody tr th {\n",
       "        vertical-align: top;\n",
       "    }\n",
       "\n",
       "    .dataframe thead th {\n",
       "        text-align: right;\n",
       "    }\n",
       "</style>\n",
       "<table border=\"1\" class=\"dataframe\">\n",
       "  <thead>\n",
       "    <tr style=\"text-align: right;\">\n",
       "      <th></th>\n",
       "      <th>price</th>\n",
       "      <th>bedrooms</th>\n",
       "      <th>bathrooms</th>\n",
       "      <th>sqft_living</th>\n",
       "      <th>sqft_lot</th>\n",
       "      <th>floors</th>\n",
       "      <th>waterfront</th>\n",
       "      <th>view</th>\n",
       "      <th>condition</th>\n",
       "      <th>sqft_above</th>\n",
       "      <th>sqft_basement</th>\n",
       "      <th>yr_built</th>\n",
       "      <th>yr_renovated</th>\n",
       "      <th>city</th>\n",
       "      <th>month</th>\n",
       "    </tr>\n",
       "  </thead>\n",
       "  <tbody>\n",
       "    <tr>\n",
       "      <th>0</th>\n",
       "      <td>313000.0</td>\n",
       "      <td>3</td>\n",
       "      <td>1</td>\n",
       "      <td>1340</td>\n",
       "      <td>7912</td>\n",
       "      <td>1</td>\n",
       "      <td>0</td>\n",
       "      <td>0</td>\n",
       "      <td>3</td>\n",
       "      <td>1340</td>\n",
       "      <td>0</td>\n",
       "      <td>1955</td>\n",
       "      <td>1</td>\n",
       "      <td>Shoreline</td>\n",
       "      <td>5</td>\n",
       "    </tr>\n",
       "    <tr>\n",
       "      <th>2</th>\n",
       "      <td>342000.0</td>\n",
       "      <td>3</td>\n",
       "      <td>2</td>\n",
       "      <td>1930</td>\n",
       "      <td>11947</td>\n",
       "      <td>1</td>\n",
       "      <td>0</td>\n",
       "      <td>0</td>\n",
       "      <td>4</td>\n",
       "      <td>1930</td>\n",
       "      <td>0</td>\n",
       "      <td>1966</td>\n",
       "      <td>0</td>\n",
       "      <td>Kent</td>\n",
       "      <td>5</td>\n",
       "    </tr>\n",
       "  </tbody>\n",
       "</table>\n",
       "</div>"
      ],
      "text/plain": [
       "      price  bedrooms  bathrooms  sqft_living  sqft_lot  floors  waterfront  \\\n",
       "0  313000.0         3          1         1340      7912       1           0   \n",
       "2  342000.0         3          2         1930     11947       1           0   \n",
       "\n",
       "   view  condition  sqft_above  sqft_basement  yr_built  yr_renovated  \\\n",
       "0     0          3        1340              0      1955             1   \n",
       "2     0          4        1930              0      1966             0   \n",
       "\n",
       "        city  month  \n",
       "0  Shoreline      5  \n",
       "2       Kent      5  "
      ]
     },
     "execution_count": 42,
     "metadata": {},
     "output_type": "execute_result"
    }
   ],
   "source": [
    "data.head(2)"
   ]
  },
  {
   "cell_type": "markdown",
   "id": "73bc0a74",
   "metadata": {
    "papermill": {
     "duration": 0.077206,
     "end_time": "2021-11-10T09:01:29.006517",
     "exception": false,
     "start_time": "2021-11-10T09:01:28.929311",
     "status": "completed"
    },
    "tags": []
   },
   "source": [
    "### Handling the Categorical data "
   ]
  },
  {
   "cell_type": "code",
   "execution_count": 43,
   "id": "3a60db8b",
   "metadata": {
    "execution": {
     "iopub.execute_input": "2021-11-10T09:01:29.169161Z",
     "iopub.status.busy": "2021-11-10T09:01:29.168436Z",
     "iopub.status.idle": "2021-11-10T09:01:29.187339Z",
     "shell.execute_reply": "2021-11-10T09:01:29.187956Z",
     "shell.execute_reply.started": "2021-11-10T08:47:55.531759Z"
    },
    "papermill": {
     "duration": 0.104109,
     "end_time": "2021-11-10T09:01:29.188134",
     "exception": false,
     "start_time": "2021-11-10T09:01:29.084025",
     "status": "completed"
    },
    "tags": []
   },
   "outputs": [
    {
     "data": {
      "text/html": [
       "<div>\n",
       "<style scoped>\n",
       "    .dataframe tbody tr th:only-of-type {\n",
       "        vertical-align: middle;\n",
       "    }\n",
       "\n",
       "    .dataframe tbody tr th {\n",
       "        vertical-align: top;\n",
       "    }\n",
       "\n",
       "    .dataframe thead th {\n",
       "        text-align: right;\n",
       "    }\n",
       "</style>\n",
       "<table border=\"1\" class=\"dataframe\">\n",
       "  <thead>\n",
       "    <tr style=\"text-align: right;\">\n",
       "      <th></th>\n",
       "      <th>price</th>\n",
       "      <th>bedrooms</th>\n",
       "      <th>bathrooms</th>\n",
       "      <th>sqft_living</th>\n",
       "      <th>sqft_lot</th>\n",
       "      <th>floors</th>\n",
       "      <th>waterfront</th>\n",
       "      <th>view</th>\n",
       "      <th>condition</th>\n",
       "      <th>sqft_above</th>\n",
       "      <th>...</th>\n",
       "      <th>city_SeaTac</th>\n",
       "      <th>city_Seattle</th>\n",
       "      <th>city_Shoreline</th>\n",
       "      <th>city_Skykomish</th>\n",
       "      <th>city_Snoqualmie</th>\n",
       "      <th>city_Snoqualmie Pass</th>\n",
       "      <th>city_Tukwila</th>\n",
       "      <th>city_Vashon</th>\n",
       "      <th>city_Woodinville</th>\n",
       "      <th>city_Yarrow Point</th>\n",
       "    </tr>\n",
       "  </thead>\n",
       "  <tbody>\n",
       "    <tr>\n",
       "      <th>0</th>\n",
       "      <td>313000.0</td>\n",
       "      <td>3</td>\n",
       "      <td>1</td>\n",
       "      <td>1340</td>\n",
       "      <td>7912</td>\n",
       "      <td>1</td>\n",
       "      <td>0</td>\n",
       "      <td>0</td>\n",
       "      <td>3</td>\n",
       "      <td>1340</td>\n",
       "      <td>...</td>\n",
       "      <td>0</td>\n",
       "      <td>0</td>\n",
       "      <td>1</td>\n",
       "      <td>0</td>\n",
       "      <td>0</td>\n",
       "      <td>0</td>\n",
       "      <td>0</td>\n",
       "      <td>0</td>\n",
       "      <td>0</td>\n",
       "      <td>0</td>\n",
       "    </tr>\n",
       "    <tr>\n",
       "      <th>2</th>\n",
       "      <td>342000.0</td>\n",
       "      <td>3</td>\n",
       "      <td>2</td>\n",
       "      <td>1930</td>\n",
       "      <td>11947</td>\n",
       "      <td>1</td>\n",
       "      <td>0</td>\n",
       "      <td>0</td>\n",
       "      <td>4</td>\n",
       "      <td>1930</td>\n",
       "      <td>...</td>\n",
       "      <td>0</td>\n",
       "      <td>0</td>\n",
       "      <td>0</td>\n",
       "      <td>0</td>\n",
       "      <td>0</td>\n",
       "      <td>0</td>\n",
       "      <td>0</td>\n",
       "      <td>0</td>\n",
       "      <td>0</td>\n",
       "      <td>0</td>\n",
       "    </tr>\n",
       "    <tr>\n",
       "      <th>3</th>\n",
       "      <td>420000.0</td>\n",
       "      <td>3</td>\n",
       "      <td>2</td>\n",
       "      <td>2000</td>\n",
       "      <td>8030</td>\n",
       "      <td>1</td>\n",
       "      <td>0</td>\n",
       "      <td>0</td>\n",
       "      <td>4</td>\n",
       "      <td>1000</td>\n",
       "      <td>...</td>\n",
       "      <td>0</td>\n",
       "      <td>0</td>\n",
       "      <td>0</td>\n",
       "      <td>0</td>\n",
       "      <td>0</td>\n",
       "      <td>0</td>\n",
       "      <td>0</td>\n",
       "      <td>0</td>\n",
       "      <td>0</td>\n",
       "      <td>0</td>\n",
       "    </tr>\n",
       "    <tr>\n",
       "      <th>4</th>\n",
       "      <td>550000.0</td>\n",
       "      <td>4</td>\n",
       "      <td>2</td>\n",
       "      <td>1940</td>\n",
       "      <td>10500</td>\n",
       "      <td>1</td>\n",
       "      <td>0</td>\n",
       "      <td>0</td>\n",
       "      <td>4</td>\n",
       "      <td>1140</td>\n",
       "      <td>...</td>\n",
       "      <td>0</td>\n",
       "      <td>0</td>\n",
       "      <td>0</td>\n",
       "      <td>0</td>\n",
       "      <td>0</td>\n",
       "      <td>0</td>\n",
       "      <td>0</td>\n",
       "      <td>0</td>\n",
       "      <td>0</td>\n",
       "      <td>0</td>\n",
       "    </tr>\n",
       "    <tr>\n",
       "      <th>5</th>\n",
       "      <td>490000.0</td>\n",
       "      <td>2</td>\n",
       "      <td>1</td>\n",
       "      <td>880</td>\n",
       "      <td>6380</td>\n",
       "      <td>1</td>\n",
       "      <td>0</td>\n",
       "      <td>0</td>\n",
       "      <td>3</td>\n",
       "      <td>880</td>\n",
       "      <td>...</td>\n",
       "      <td>0</td>\n",
       "      <td>1</td>\n",
       "      <td>0</td>\n",
       "      <td>0</td>\n",
       "      <td>0</td>\n",
       "      <td>0</td>\n",
       "      <td>0</td>\n",
       "      <td>0</td>\n",
       "      <td>0</td>\n",
       "      <td>0</td>\n",
       "    </tr>\n",
       "  </tbody>\n",
       "</table>\n",
       "<p>5 rows × 57 columns</p>\n",
       "</div>"
      ],
      "text/plain": [
       "      price  bedrooms  bathrooms  sqft_living  sqft_lot  floors  waterfront  \\\n",
       "0  313000.0         3          1         1340      7912       1           0   \n",
       "2  342000.0         3          2         1930     11947       1           0   \n",
       "3  420000.0         3          2         2000      8030       1           0   \n",
       "4  550000.0         4          2         1940     10500       1           0   \n",
       "5  490000.0         2          1          880      6380       1           0   \n",
       "\n",
       "   view  condition  sqft_above  ...  city_SeaTac  city_Seattle  \\\n",
       "0     0          3        1340  ...            0             0   \n",
       "2     0          4        1930  ...            0             0   \n",
       "3     0          4        1000  ...            0             0   \n",
       "4     0          4        1140  ...            0             0   \n",
       "5     0          3         880  ...            0             1   \n",
       "\n",
       "   city_Shoreline  city_Skykomish  city_Snoqualmie  city_Snoqualmie Pass  \\\n",
       "0               1               0                0                     0   \n",
       "2               0               0                0                     0   \n",
       "3               0               0                0                     0   \n",
       "4               0               0                0                     0   \n",
       "5               0               0                0                     0   \n",
       "\n",
       "   city_Tukwila  city_Vashon  city_Woodinville  city_Yarrow Point  \n",
       "0             0            0                 0                  0  \n",
       "2             0            0                 0                  0  \n",
       "3             0            0                 0                  0  \n",
       "4             0            0                 0                  0  \n",
       "5             0            0                 0                  0  \n",
       "\n",
       "[5 rows x 57 columns]"
      ]
     },
     "execution_count": 43,
     "metadata": {},
     "output_type": "execute_result"
    }
   ],
   "source": [
    "data = pd.get_dummies(data, drop_first=True)\n",
    "data.head()\n"
   ]
  },
  {
   "cell_type": "markdown",
   "id": "0167e6d1",
   "metadata": {
    "papermill": {
     "duration": 0.077321,
     "end_time": "2021-11-10T09:01:29.342606",
     "exception": false,
     "start_time": "2021-11-10T09:01:29.265285",
     "status": "completed"
    },
    "tags": []
   },
   "source": [
    "### Splitting the Dataset into X and Y"
   ]
  },
  {
   "cell_type": "code",
   "execution_count": 44,
   "id": "6657dcba",
   "metadata": {
    "execution": {
     "iopub.execute_input": "2021-11-10T09:01:29.502708Z",
     "iopub.status.busy": "2021-11-10T09:01:29.502055Z",
     "iopub.status.idle": "2021-11-10T09:01:29.506939Z",
     "shell.execute_reply": "2021-11-10T09:01:29.507523Z",
     "shell.execute_reply.started": "2021-11-10T08:48:54.425191Z"
    },
    "papermill": {
     "duration": 0.086726,
     "end_time": "2021-11-10T09:01:29.507706",
     "exception": false,
     "start_time": "2021-11-10T09:01:29.420980",
     "status": "completed"
    },
    "tags": []
   },
   "outputs": [],
   "source": [
    "X = data.drop('price',axis=1)\n",
    "y = data['price']"
   ]
  },
  {
   "cell_type": "markdown",
   "id": "55f5fe7f",
   "metadata": {
    "papermill": {
     "duration": 0.078216,
     "end_time": "2021-11-10T09:01:29.663462",
     "exception": false,
     "start_time": "2021-11-10T09:01:29.585246",
     "status": "completed"
    },
    "tags": []
   },
   "source": [
    "### Splitting the dataset into training and testing"
   ]
  },
  {
   "cell_type": "code",
   "execution_count": 45,
   "id": "8363beb5",
   "metadata": {
    "execution": {
     "iopub.execute_input": "2021-11-10T09:01:29.824712Z",
     "iopub.status.busy": "2021-11-10T09:01:29.824042Z",
     "iopub.status.idle": "2021-11-10T09:01:29.992005Z",
     "shell.execute_reply": "2021-11-10T09:01:29.990753Z",
     "shell.execute_reply.started": "2021-11-10T08:50:02.203167Z"
    },
    "papermill": {
     "duration": 0.250512,
     "end_time": "2021-11-10T09:01:29.992162",
     "exception": false,
     "start_time": "2021-11-10T09:01:29.741650",
     "status": "completed"
    },
    "tags": []
   },
   "outputs": [],
   "source": [
    "from sklearn.model_selection import train_test_split\n",
    "X_train, X_test, y_train, y_test = train_test_split(X, y, test_size=0.2, random_state=42)"
   ]
  },
  {
   "cell_type": "code",
   "execution_count": 46,
   "id": "c0c91778",
   "metadata": {
    "execution": {
     "iopub.execute_input": "2021-11-10T09:01:30.156161Z",
     "iopub.status.busy": "2021-11-10T09:01:30.155440Z",
     "iopub.status.idle": "2021-11-10T09:01:30.157451Z",
     "shell.execute_reply": "2021-11-10T09:01:30.156857Z",
     "shell.execute_reply.started": "2021-11-10T08:50:28.743136Z"
    },
    "papermill": {
     "duration": 0.086272,
     "end_time": "2021-11-10T09:01:30.157586",
     "exception": false,
     "start_time": "2021-11-10T09:01:30.071314",
     "status": "completed"
    },
    "tags": []
   },
   "outputs": [],
   "source": [
    "from sklearn.preprocessing import StandardScaler\n",
    "sc = StandardScaler()"
   ]
  },
  {
   "cell_type": "code",
   "execution_count": 47,
   "id": "c2516fc8",
   "metadata": {
    "execution": {
     "iopub.execute_input": "2021-11-10T09:01:30.320555Z",
     "iopub.status.busy": "2021-11-10T09:01:30.319784Z",
     "iopub.status.idle": "2021-11-10T09:01:30.335120Z",
     "shell.execute_reply": "2021-11-10T09:01:30.334468Z",
     "shell.execute_reply.started": "2021-11-10T08:52:41.338473Z"
    },
    "papermill": {
     "duration": 0.099553,
     "end_time": "2021-11-10T09:01:30.335262",
     "exception": false,
     "start_time": "2021-11-10T09:01:30.235709",
     "status": "completed"
    },
    "tags": []
   },
   "outputs": [],
   "source": [
    "X_train = sc.fit_transform(X_train)\n",
    "X_test = sc.transform(X_test)"
   ]
  },
  {
   "cell_type": "markdown",
   "id": "4b8f0916",
   "metadata": {
    "papermill": {
     "duration": 0.078627,
     "end_time": "2021-11-10T09:01:30.491597",
     "exception": false,
     "start_time": "2021-11-10T09:01:30.412970",
     "status": "completed"
    },
    "tags": []
   },
   "source": [
    "### Creating Our ML model"
   ]
  },
  {
   "cell_type": "code",
   "execution_count": 48,
   "id": "0f97598c",
   "metadata": {
    "execution": {
     "iopub.execute_input": "2021-11-10T09:01:30.653240Z",
     "iopub.status.busy": "2021-11-10T09:01:30.652534Z",
     "iopub.status.idle": "2021-11-10T09:01:30.748972Z",
     "shell.execute_reply": "2021-11-10T09:01:30.750038Z",
     "shell.execute_reply.started": "2021-11-10T08:59:10.910862Z"
    },
    "papermill": {
     "duration": 0.1808,
     "end_time": "2021-11-10T09:01:30.750333",
     "exception": false,
     "start_time": "2021-11-10T09:01:30.569533",
     "status": "completed"
    },
    "tags": []
   },
   "outputs": [
    {
     "name": "stdout",
     "output_type": "stream",
     "text": [
      "Accuracy of training set: 0.6994372913476681\n",
      "Accuracy of testing set:  0.6600697578812008\n"
     ]
    }
   ],
   "source": [
    "from sklearn.linear_model import LinearRegression\n",
    "lr = LinearRegression()\n",
    "lr.fit(X_train, y_train)\n",
    "y_pred = lr.predict(X_test)\n",
    "print(f\"Accuracy of training set:\", lr.score(X_train, y_train))\n",
    "print(f\"Accuracy of testing set: \", lr.score(X_test, y_test))"
   ]
  },
  {
   "cell_type": "code",
   "execution_count": 49,
   "id": "8aebc6d5",
   "metadata": {
    "execution": {
     "iopub.execute_input": "2021-11-10T09:01:30.968334Z",
     "iopub.status.busy": "2021-11-10T09:01:30.967619Z",
     "iopub.status.idle": "2021-11-10T09:01:31.160030Z",
     "shell.execute_reply": "2021-11-10T09:01:31.160934Z",
     "shell.execute_reply.started": "2021-11-10T09:00:46.330998Z"
    },
    "papermill": {
     "duration": 0.279992,
     "end_time": "2021-11-10T09:01:31.161212",
     "exception": false,
     "start_time": "2021-11-10T09:01:30.881220",
     "status": "completed"
    },
    "tags": []
   },
   "outputs": [
    {
     "name": "stdout",
     "output_type": "stream",
     "text": [
      "0.6707203238233833\n"
     ]
    }
   ],
   "source": [
    "from sklearn.model_selection import cross_val_score\n",
    "\n",
    "lr = LinearRegression()\n",
    "cv = cross_val_score(lr, X, y, cv=10)\n",
    "print(np.mean(cv))"
   ]
  }
 ],
 "metadata": {
  "kernelspec": {
   "display_name": "Python 3 (ipykernel)",
   "language": "python",
   "name": "python3"
  },
  "language_info": {
   "codemirror_mode": {
    "name": "ipython",
    "version": 3
   },
   "file_extension": ".py",
   "mimetype": "text/x-python",
   "name": "python",
   "nbconvert_exporter": "python",
   "pygments_lexer": "ipython3",
   "version": "3.10.9"
  },
  "papermill": {
   "default_parameters": {},
   "duration": 32.305083,
   "end_time": "2021-11-10T09:01:32.364645",
   "environment_variables": {},
   "exception": null,
   "input_path": "__notebook__.ipynb",
   "output_path": "__notebook__.ipynb",
   "parameters": {},
   "start_time": "2021-11-10T09:01:00.059562",
   "version": "2.3.3"
  }
 },
 "nbformat": 4,
 "nbformat_minor": 5
}
